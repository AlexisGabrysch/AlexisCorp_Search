{
 "cells": [
  {
   "cell_type": "code",
   "execution_count": 1,
   "id": "51aa6fba",
   "metadata": {
    "scrolled": false
   },
   "outputs": [
    {
     "name": "stdout",
     "output_type": "stream",
     "text": [
      "Reddit: 0 / 100\n",
      "Reddit: 10 / 100\n",
      "Reddit: 20 / 100\n",
      "Reddit: 30 / 100\n",
      "Reddit: 40 / 100\n",
      "Reddit: 50 / 100\n",
      "Reddit: 60 / 100\n",
      "Reddit: 70 / 100\n",
      "Reddit: 80 / 100\n",
      "Reddit: 90 / 100\n"
     ]
    },
    {
     "ename": "KeyError",
     "evalue": "'entry'",
     "output_type": "error",
     "traceback": [
      "\u001b[1;31m---------------------------------------------------------------------------\u001b[0m",
      "\u001b[1;31mKeyError\u001b[0m                                  Traceback (most recent call last)",
      "\u001b[1;32m~\\AppData\\Local\\Temp/ipykernel_19432/1507879290.py\u001b[0m in \u001b[0;36m<module>\u001b[1;34m\u001b[0m\n\u001b[0;32m     63\u001b[0m \u001b[1;33m\u001b[0m\u001b[0m\n\u001b[0;32m     64\u001b[0m \u001b[1;31m# Ajout résumés à la liste\u001b[0m\u001b[1;33m\u001b[0m\u001b[1;33m\u001b[0m\u001b[0m\n\u001b[1;32m---> 65\u001b[1;33m \u001b[1;32mfor\u001b[0m \u001b[0mi\u001b[0m\u001b[1;33m,\u001b[0m \u001b[0mentry\u001b[0m \u001b[1;32min\u001b[0m \u001b[0menumerate\u001b[0m\u001b[1;33m(\u001b[0m\u001b[0mdata\u001b[0m\u001b[1;33m[\u001b[0m\u001b[1;34m\"feed\"\u001b[0m\u001b[1;33m]\u001b[0m\u001b[1;33m[\u001b[0m\u001b[1;34m\"entry\"\u001b[0m\u001b[1;33m]\u001b[0m\u001b[1;33m)\u001b[0m\u001b[1;33m:\u001b[0m\u001b[1;33m\u001b[0m\u001b[1;33m\u001b[0m\u001b[0m\n\u001b[0m\u001b[0;32m     66\u001b[0m     \u001b[1;32mif\u001b[0m \u001b[0mi\u001b[0m\u001b[1;33m%\u001b[0m\u001b[1;36m10\u001b[0m\u001b[1;33m==\u001b[0m\u001b[1;36m0\u001b[0m\u001b[1;33m:\u001b[0m \u001b[0mprint\u001b[0m\u001b[1;33m(\u001b[0m\u001b[1;34m\"ArXiv:\"\u001b[0m\u001b[1;33m,\u001b[0m \u001b[0mi\u001b[0m\u001b[1;33m,\u001b[0m \u001b[1;34m\"/\"\u001b[0m\u001b[1;33m,\u001b[0m \u001b[0mlimit\u001b[0m\u001b[1;33m)\u001b[0m\u001b[1;33m\u001b[0m\u001b[1;33m\u001b[0m\u001b[0m\n\u001b[0;32m     67\u001b[0m     \u001b[0mdocs\u001b[0m\u001b[1;33m.\u001b[0m\u001b[0mappend\u001b[0m\u001b[1;33m(\u001b[0m\u001b[0mentry\u001b[0m\u001b[1;33m[\u001b[0m\u001b[1;34m\"summary\"\u001b[0m\u001b[1;33m]\u001b[0m\u001b[1;33m.\u001b[0m\u001b[0mreplace\u001b[0m\u001b[1;33m(\u001b[0m\u001b[1;34m\"\\n\"\u001b[0m\u001b[1;33m,\u001b[0m \u001b[1;34m\"\"\u001b[0m\u001b[1;33m)\u001b[0m\u001b[1;33m)\u001b[0m\u001b[1;33m\u001b[0m\u001b[1;33m\u001b[0m\u001b[0m\n",
      "\u001b[1;31mKeyError\u001b[0m: 'entry'"
     ]
    }
   ],
   "source": [
    "# Correction de G. Poux-Médard, 2021-2022\n",
    "from Classes import RedditDocument\n",
    "from Classes import ArxivDocument\n",
    "# =============== PARTIE 1 =============\n",
    "# =============== 1.1 : REDDIT ===============\n",
    "# Library\n",
    "import praw\n",
    "\n",
    "# Fonction affichage hiérarchie dict\n",
    "def showDictStruct(d):\n",
    "    def recursivePrint(d, i):\n",
    "        for k in d:\n",
    "            if isinstance(d[k], dict):\n",
    "                print(\"-\"*i, k)\n",
    "                recursivePrint(d[k], i+2)\n",
    "            else:\n",
    "                print(\"-\"*i, k, \":\", d[k])\n",
    "    recursivePrint(d, 1)\n",
    "\n",
    "# Identification\n",
    "reddit = praw.Reddit(client_id='MR0jyTs3U8XGLnbemELxuQ', client_secret='CRzHJbtQBHowRV4m_n7oldHGsu6YHg', user_agent='monapp')\n",
    "\n",
    "# Requête\n",
    "limit = 100\n",
    "hot_posts = reddit.subreddit('all').hot(limit=limit)#.top(\"all\", limit=limit)#\n",
    "\n",
    "# Récupération du texte\n",
    "docs = []\n",
    "docs_bruts = []\n",
    "afficher_cles = False\n",
    "for i, post in enumerate(hot_posts):\n",
    "    if i%10==0: print(\"Reddit:\", i, \"/\", limit)\n",
    "    if afficher_cles:  # Pour connaître les différentes variables et leur contenu\n",
    "        for k, v in post.__dict__.items():\n",
    "            pass\n",
    "            print(k, \":\", v)\n",
    "\n",
    "    if post.selftext != \"\":  # Osef des posts sans texte\n",
    "        pass\n",
    "        #print(post.selftext)\n",
    "    docs.append(post.selftext.replace(\"\\n\", \" \"))\n",
    "    docs_bruts.append((\"Reddit\", post))\n",
    "\n",
    "#print(docs)\n",
    "\n",
    "# =============== 1.2 : ArXiv ===============\n",
    "# Libraries\n",
    "import urllib, urllib.request, _collections\n",
    "import xmltodict\n",
    "\n",
    "# Paramètres\n",
    "query_terms = [\"clustering\", \"Dirichlet\"]\n",
    "max_results = 50\n",
    "\n",
    "# Requête\n",
    "url = f'http://export.arxiv.org/api/query?search_query=all:{\"+\".join(query_terms)}&start=0&max_results={max_results}'\n",
    "data = urllib.request.urlopen(url)\n",
    "\n",
    "# Format dict (OrderedDict)\n",
    "data = xmltodict.parse(data.read().decode('utf-8'))\n",
    "\n",
    "#showDictStruct(data)\n",
    "\n",
    "# Ajout résumés à la liste\n",
    "for i, entry in enumerate(data[\"feed\"][\"entry\"]):\n",
    "    if i%10==0: print(\"ArXiv:\", i, \"/\", limit)\n",
    "    docs.append(entry[\"summary\"].replace(\"\\n\", \"\"))\n",
    "    docs_bruts.append((\"ArXiv\", entry))\n",
    "    #showDictStruct(entry)\n",
    "\n",
    "# =============== 1.3 : Exploitation ===============\n",
    "print(f\"# docs avec doublons : {len(docs)}\")\n",
    "docs = list(set(docs))\n",
    "print(f\"# docs sans doublons : {len(docs)}\")\n",
    "\n",
    "for i, doc in enumerate(docs):\n",
    "    print(f\"Document {i}\\t# caractères : {len(doc)}\\t# mots : {len(doc.split(' '))}\\t# phrases : {len(doc.split('.'))}\")\n",
    "    if len(doc)<100:\n",
    "        docs.remove(doc)\n",
    "\n",
    "longueChaineDeCaracteres = \" \".join(docs)\n",
    "\n",
    "# =============== PARTIE 2 =============\n",
    "# =============== 2.1, 2.2 : CLASSE DOCUMENT ===============\n",
    "from Classes import Document\n",
    "\n",
    "# =============== 2.3 : MANIPS ===============\n",
    "import datetime\n",
    "collection = []\n",
    "for nature, doc in docs_bruts:\n",
    "    if nature == \"ArXiv\":  # Les fichiers de ArXiv ou de Reddit sont pas formatés de la même manière à ce stade.\n",
    "        #showDictStruct(doc)\n",
    "\n",
    "        titre = doc[\"title\"].replace('\\n', '')  # On enlève les retours à la ligne\n",
    "        try:\n",
    "            authors = \", \".join([a[\"name\"] for a in doc[\"author\"]])  # On fait une liste d'auteurs, séparés par une virgule\n",
    "        except:\n",
    "            authors = doc[\"author\"][\"name\"]  # Si l'auteur est seul, pas besoin de liste\n",
    "        summary = doc[\"summary\"].replace(\"\\n\", \"\")  # On enlève les retours à la ligne\n",
    "        date = datetime.datetime.strptime(doc[\"published\"], \"%Y-%m-%dT%H:%M:%SZ\").strftime(\"%Y/%m/%d\")  # Formatage de la date en année/mois/jour avec librairie datetime\n",
    "        if len(authors)>1:\n",
    "            coa = authors[1:]\n",
    "        else:\n",
    "            coa = None\n",
    "            \n",
    "        doc_classe = ArxivDocument(titre, authors, date, doc[\"id\"], summary , \"Arxiv\")  # Création du Document\n",
    "        doc_classe.setnbr(coa)\n",
    "        collection.append(doc_classe)  # Ajout du Document à la liste.\n",
    "\n",
    "    elif nature == \"Reddit\":\n",
    "        #print(\"\".join([f\"{k}: {v}\\n\" for k, v in doc.__dict__.items()]))\n",
    "        titre = doc.title.replace(\"\\n\", '')\n",
    "        auteur = str(doc.author)\n",
    "        date = datetime.datetime.fromtimestamp(doc.created).strftime(\"%Y/%m/%d\")\n",
    "        url = \"https://www.reddit.com/\"+doc.permalink\n",
    "        texte = doc.selftext.replace(\"\\n\", \"\")\n",
    "        nbcom = doc.num_comments\n",
    "        \n",
    "        doc_classe = RedditDocument(titre, auteur, date, url, texte, \"\")\n",
    "        doc_classe.setnbr(nbcom)\n",
    "        collection.append(doc_classe)\n",
    "\n",
    "# Création de l'index de documents\n",
    "id2doc = {}\n",
    "for i, doc in enumerate(collection):\n",
    "    id2doc[i] = doc.titre\n",
    "\n",
    "# =============== 2.4, 2.5 : CLASSE AUTEURS ===============\n",
    "from Classes import Author\n",
    "\n",
    "# =============== 2.6 : DICT AUTEURS ===============\n",
    "authors = {}\n",
    "aut2id = {}\n",
    "num_auteurs_vus = 0\n",
    "\n",
    "# Création de la liste+index des Auteurs\n",
    "for doc in collection:\n",
    "    if doc.auteur not in aut2id:\n",
    "        num_auteurs_vus += 1\n",
    "        authors[num_auteurs_vus] = Author(doc.auteur)\n",
    "        aut2id[doc.auteur] = num_auteurs_vus\n",
    "\n",
    "    authors[aut2id[doc.auteur]].add(doc.texte)\n",
    "\n",
    "\n",
    "# =============== 2.7, 2.8 : CORPUS ===============\n",
    "from Corpus import Corpus\n",
    "corpus = Corpus(\"Mon corpus\")\n",
    "\n",
    "# Construction du corpus à partir des documents\n",
    "for doc in collection:\n",
    "    corpus.add(doc)\n",
    "#corpus.show(tri=\"abc\")\n",
    "#print(repr(corpus))\n",
    "\n",
    "print(corpus)\n",
    "\n",
    "\n",
    "\n",
    "\n"
   ]
  },
  {
   "cell_type": "code",
   "execution_count": 261,
   "id": "e10a80c7",
   "metadata": {},
   "outputs": [],
   "source": [
    "mot_antoine = \"To\""
   ]
  },
  {
   "cell_type": "code",
   "execution_count": 262,
   "id": "6add7859",
   "metadata": {
    "scrolled": true
   },
   "outputs": [
    {
     "name": "stdout",
     "output_type": "stream",
     "text": [
      "0\n",
      "1\n",
      "2\n",
      "3\n",
      "4\n",
      "5\n",
      "6\n",
      "7\n",
      "8\n",
      "9\n",
      "10\n",
      "11\n",
      "12\n",
      "13\n",
      "14\n",
      "15\n",
      "16\n",
      "17\n",
      "18\n",
      "19\n",
      "20\n",
      "21\n",
      "22\n",
      "23\n",
      "24\n",
      "25\n",
      "26\n",
      "27\n",
      "28\n",
      "29\n",
      "30\n",
      "31\n",
      "32\n",
      "33\n",
      "34\n",
      "35\n",
      "36\n",
      "37\n",
      "38\n",
      "39\n",
      "40\n",
      "41\n",
      "42\n",
      "43\n",
      "44\n",
      "45\n",
      "46\n",
      "47\n",
      "48\n",
      "49\n",
      "50\n",
      "51\n",
      "52\n",
      "53\n",
      "54\n",
      "55\n",
      "56\n",
      "57\n",
      "58\n",
      "59\n",
      "60\n",
      "61\n",
      "62\n",
      "63\n",
      "64\n",
      "65\n",
      "66\n",
      "67\n",
      "68\n",
      "69\n",
      "70\n",
      "71\n",
      "72\n",
      "73\n",
      "74\n",
      "75\n",
      "76\n",
      "77\n",
      "78\n",
      "79\n",
      "80\n",
      "81\n",
      "82\n",
      "83\n",
      "84\n",
      "85\n",
      "86\n",
      "87\n",
      "88\n",
      "89\n",
      "90\n",
      "91\n",
      "92\n",
      "93\n",
      "94\n",
      "95\n",
      "96\n",
      "97\n",
      "98\n",
      "99\n",
      "100\n",
      "101\n",
      "102\n",
      "103\n",
      "104\n",
      "105\n",
      "106\n",
      "107\n",
      "108\n",
      "109\n",
      "110\n",
      "111\n",
      "112\n",
      "113\n",
      "114\n",
      "115\n",
      "116\n",
      "117\n",
      "118\n",
      "119\n",
      "120\n",
      "121\n",
      "122\n",
      "123\n",
      "124\n",
      "125\n",
      "126\n",
      "127\n",
      "128\n",
      "129\n",
      "130\n",
      "131\n",
      "132\n",
      "133\n",
      "134\n",
      "135\n",
      "136\n",
      "137\n",
      "138\n",
      "139\n",
      "140\n",
      "141\n",
      "142\n",
      "143\n",
      "144\n",
      "145\n",
      "146\n",
      "147\n",
      "148\n",
      "149\n"
     ]
    }
   ],
   "source": [
    "\n",
    "dico = {\"id\": [],\"texte\": []}\n",
    "for x, c in enumerate(collection):\n",
    "    print(x)\n",
    "    if bool(re.match(mot_antoine,c.texte )) == True:\n",
    "        c.texte.split(\" \").index(mot_antoine)\n",
    "        print(\"lll\")\n",
    "        dico[\"id\"].append(x)\n",
    "        dico[\"texte\"].append(c.texte)\n",
    "  "
   ]
  },
  {
   "cell_type": "code",
   "execution_count": 263,
   "id": "8e788204",
   "metadata": {
    "scrolled": true
   },
   "outputs": [
    {
     "data": {
      "text/plain": [
       "{'id': [], 'texte': []}"
      ]
     },
     "execution_count": 263,
     "metadata": {},
     "output_type": "execute_result"
    }
   ],
   "source": [
    "dico"
   ]
  },
  {
   "cell_type": "code",
   "execution_count": 222,
   "id": "c155d32f",
   "metadata": {},
   "outputs": [
    {
     "data": {
      "text/plain": [
       "0"
      ]
     },
     "execution_count": 222,
     "metadata": {},
     "output_type": "execute_result"
    }
   ],
   "source": [
    "c.texte.lower().split(\" \").index(\"we\")"
   ]
  },
  {
   "cell_type": "code",
   "execution_count": 200,
   "id": "68680745",
   "metadata": {},
   "outputs": [
    {
     "data": {
      "text/plain": [
       "'We'"
      ]
     },
     "execution_count": 200,
     "metadata": {},
     "output_type": "execute_result"
    }
   ],
   "source": [
    "re.match(\"We\",c.texte ).group(0)"
   ]
  },
  {
   "cell_type": "code",
   "execution_count": 157,
   "id": "41fc219b",
   "metadata": {},
   "outputs": [
    {
     "data": {
      "text/plain": [
       "2852"
      ]
     },
     "execution_count": 157,
     "metadata": {},
     "output_type": "execute_result"
    }
   ],
   "source": [
    "mestextes2.index(\"light\")"
   ]
  },
  {
   "cell_type": "code",
   "execution_count": 159,
   "id": "28b6e1ad",
   "metadata": {},
   "outputs": [
    {
     "data": {
      "text/plain": [
       "['prior',\n",
       " 'distributionformulation',\n",
       " 'has',\n",
       " 'been',\n",
       " 'on',\n",
       " 'the',\n",
       " 'number',\n",
       " 'of',\n",
       " 'components.',\n",
       " 'In',\n",
       " 'light',\n",
       " 'of',\n",
       " 'this,',\n",
       " 'we',\n",
       " 'developa',\n",
       " 'finite',\n",
       " 'mixture',\n",
       " 'methodology',\n",
       " 'that',\n",
       " 'permits',\n",
       " 'eliciting']"
      ]
     },
     "execution_count": 159,
     "metadata": {},
     "output_type": "execute_result"
    }
   ],
   "source": [
    "mestextes2[2852-10:2852+11]"
   ]
  },
  {
   "cell_type": "code",
   "execution_count": 2,
   "id": "00a8a8f7",
   "metadata": {},
   "outputs": [],
   "source": [
    "from Classes import RedditDocument"
   ]
  },
  {
   "cell_type": "code",
   "execution_count": 3,
   "id": "3f57e6fc",
   "metadata": {},
   "outputs": [],
   "source": [
    "c =RedditDocument()"
   ]
  },
  {
   "cell_type": "code",
   "execution_count": 4,
   "id": "d208d020",
   "metadata": {},
   "outputs": [],
   "source": [
    "c.setnbr(10)\n",
    "c.__init__(\"aldxis\", \"adedlei\", \"alexys\",\"axelis\",\"sixela\")"
   ]
  },
  {
   "cell_type": "code",
   "execution_count": 5,
   "id": "907b7eee",
   "metadata": {},
   "outputs": [
    {
     "data": {
      "text/plain": [
       "'aldxis, par adedlei, 10 comments '"
      ]
     },
     "execution_count": 5,
     "metadata": {},
     "output_type": "execute_result"
    }
   ],
   "source": [
    "c.__str__()"
   ]
  },
  {
   "cell_type": "code",
   "execution_count": 6,
   "id": "6f24608b",
   "metadata": {},
   "outputs": [
    {
     "name": "stdout",
     "output_type": "stream",
     "text": [
      "aldxis, par adedlei, 10 comments \n"
     ]
    }
   ],
   "source": [
    "print(c)"
   ]
  },
  {
   "cell_type": "code",
   "execution_count": 7,
   "id": "c172cd90",
   "metadata": {},
   "outputs": [
    {
     "data": {
      "text/plain": [
       "<bound method RedditDocument.getnbr of Titre : aldxis\tAuteur : adedlei\tDate : alexys\tURL : axelis\tTexte : sixela\t>"
      ]
     },
     "execution_count": 7,
     "metadata": {},
     "output_type": "execute_result"
    }
   ],
   "source": [
    "c.getnbr"
   ]
  },
  {
   "cell_type": "code",
   "execution_count": null,
   "id": "3a47b96a",
   "metadata": {},
   "outputs": [],
   "source": []
  },
  {
   "cell_type": "code",
   "execution_count": 8,
   "id": "a63a1e0b",
   "metadata": {},
   "outputs": [],
   "source": [
    " from Classes import ArxivDocument"
   ]
  },
  {
   "cell_type": "code",
   "execution_count": 9,
   "id": "86dee184",
   "metadata": {},
   "outputs": [],
   "source": [
    "d = ArxivDocument()"
   ]
  },
  {
   "cell_type": "code",
   "execution_count": 10,
   "id": "48b694c0",
   "metadata": {},
   "outputs": [],
   "source": [
    "d.setnbr(\"alexis le bg\")"
   ]
  },
  {
   "cell_type": "code",
   "execution_count": 11,
   "id": "c5189ae5",
   "metadata": {},
   "outputs": [],
   "source": [
    "d.__init__(\"aldxis\", \"adedlei\", \"alexys\",\"axelis\",\"sixela\")"
   ]
  },
  {
   "cell_type": "code",
   "execution_count": 12,
   "id": "01f06903",
   "metadata": {},
   "outputs": [
    {
     "name": "stdout",
     "output_type": "stream",
     "text": [
      "aldxis, par adedlei, alexis le bg coauthors \n"
     ]
    }
   ],
   "source": [
    "print(d)"
   ]
  },
  {
   "cell_type": "code",
   "execution_count": null,
   "id": "70ce497c",
   "metadata": {},
   "outputs": [],
   "source": []
  },
  {
   "cell_type": "code",
   "execution_count": 13,
   "id": "c038123e",
   "metadata": {
    "scrolled": true
   },
   "outputs": [
    {
     "name": "stdout",
     "output_type": "stream",
     "text": [
      "\"We start with Poland\", par AshRiddle, 77 comments \n",
      "'Your Turn': United Auto Workers Launches Campaign to Unionize Tesla, par Sorin61, 165 comments \n",
      "2023 season summed up, par thala-for-a-reason7, 57 comments \n",
      "3 killed, at least 11 injured in shooting attack near entrance to Jerusalem, par The2lackSUN, 504 comments \n",
      "[gayavatarstyle] You learn something new everyday!, par Amazingqueen97, 100 comments \n",
      "A giant macaron is given by france to every winner of the grand sumo tournament in japan, par GaddockTeegFunPolice, 37 comments \n",
      "A Hierarchical Dirichlet Process Model with Multiple Levels of  Clustering for Human EEG Seizure Modeling, par Drausin Wulsin, Shane Jensen, Brian Litt, rausin Wulsin, Shane Jensen, Brian Litt coauthors \n",
      "A missing person's page from an old high school yearbook, par Trashpit996, 84 comments \n",
      "A six-planet solar system in perfect synchrony has been found in the Milky Way, par scottmache025, 149 comments \n",
      "After only 9 days of use, is this normal?, par leftoright, 465 comments \n",
      "Amazing Jack Sparrow imitation makeup, par T3TeddY-221, 62 comments \n",
      "Anthony Bourdain has always been right, par prailock, 173 comments \n",
      "Basically everyone on this sub’s experience over the past couple days, par Rough-Dizaster, 440 comments \n",
      "Big sad, par Conscious-Aioli-1551, 59 comments \n",
      "Blahaj in a suit, par King_Pee, 29 comments \n",
      "Bro got drowned by a lake, par thexbeatboxer, 420 comments \n",
      "Cheesecake factory remix, par Tall-Stretch-8716, 502 comments \n",
      "Clustering consistency with Dirichlet process mixtures, par Filippo Ascolani, Antonio Lijoi, Giovanni Rebaudo, Giacomo Zanella, ilippo Ascolani, Antonio Lijoi, Giovanni Rebaudo, Giacomo Zanella coauthors \n",
      "Confirmed wala na ang KathNiel 😭, par Actual_Fox_4004, 774 comments \n",
      "Controversial Educational Practices, par Addilyn_Ambar, 408 comments \n",
      "Cursed_code, par ANMSSHITPOSTER, 35 comments \n",
      "Degenbrecher's inability to use art (by soporpenguin, TL by me), par Dedpul1994, 66 comments \n",
      "deleted scene where david wallace makes ryan cry, par carrotwhirl, 47 comments \n",
      "Dirichlet Process Mixtures of Generalized Mallows Models, par Marina Meila, Harr Chen, arina Meila, Harr Chen coauthors \n",
      "Dirichlet-tree multinomial mixtures for clustering microbiome  compositions, par Jialiang Mao, Li Ma, ialiang Mao, Li Ma coauthors \n",
      "Dr. Henry Kissinger Dies at Age 100, par tinykidtoo, 916 comments \n",
      "Dynamic Clustering via Asymptotics of the Dependent Dirichlet Process  Mixture, par Trevor Campbell, Miao Liu, Brian Kulis, Jonathan P. How, Lawrence Carin, revor Campbell, Miao Liu, Brian Kulis, Jonathan P. How, Lawrence Carin coauthors \n",
      "Elon tells Bob Iger to “go f*ck yourself”, par pstbo, 4389 comments \n",
      "Explanied by Omni man, par Finitegamer2004, 56 comments \n",
      "Footage from security cameras of the shooting attack this morning in Jerusalem. , par TheBadassCat, 316 comments \n",
      "For some reason the official windows account only follows this one person, par gravityVT, 380 comments \n",
      "Free them from the shackles of cancel culture rants, par BPTeehee, 372 comments \n",
      "George Bush Sr’s dog got so fat in 1992 that he had to send this memo to all White House staff, par frituurgarnituur, 72 comments \n",
      "Gus 100% believes Grammy’s visits are for him. He’s not wrong, par Fishmike52, 168 comments \n",
      "Half of British Jews 'considering leaving the UK' amid 'staggering' rise in anti-Semitism, par HaTzoref, 613 comments \n",
      "Henry Kissinger, secretary of state to Richard Nixon, dies at 100, par MrRedXiii, 2933 comments \n",
      "Hierarchical Dirichlet Process and Relative Entropy, par Shui Feng, hui Feng coauthors \n",
      "howdy neighbor, par SeeminglySusan, 191 comments \n",
      "I PROMISE I DIDNT DO ANYTHING, IT WASNT ME, par the-vindicator, 147 comments \n",
      "I purposely farted in front of guy at the gym because he wouldn't take no for an answer., par Titfortat101, 1418 comments \n",
      "I think this fits here, par kohta_KAJAhtaa, 251 comments \n",
      "I'm totally lost here, par EmpanadaYGaseosa, 130 comments \n",
      "Ich platze, wenn ich es nicht ausspreche!, par OKVoice1, 250 comments \n",
      "If Qui-Gon Jinn survived and joined the Clone Wars, par K-jun1117, 289 comments \n",
      "It’s quicker too, par DaveTheRocketGuy, 242 comments \n",
      "KISSINGER IS DEAD, par TheIxbot, 1814 comments \n",
      "Large abdominal hernia, par Creams0da, 331 comments \n",
      "Lawyer Lost Everything for Trump, Now He Must Use His Wife's Retirement to Pay His Legal Bills Since Trump Won't Help, par MuthaPlucka, 601 comments \n",
      "Look how they massacred my boyy, par Difficult_Leading551, 71 comments \n",
      "Look out!, par DCArchibald, 275 comments \n",
      "Maybe maybe maybe, par cgsimmons1983, 99 comments \n",
      "me irl, par Anas_Elgarhy, 67 comments \n",
      "Meirl, par Majestic_Collar_6075, 80 comments \n",
      "Mom can teleport, par Fightin_Rooster, 92 comments \n",
      "Musk to advertisers: Go fuck yourself, par ExactlySorta, 2303 comments \n",
      "My friends attempt to not make me kill myself, par Kefyzz, 112 comments \n",
      "My wife. Early 80s., par CHhVCq, 91 comments \n",
      "Mysterious woman tells school board that Scholastic book sparked porn addiction, par -Appleaday-, 559 comments \n",
      "Never order \"gourmet\" pizza, par VrondisEyes, 2046 comments \n",
      "No luck, par Comfortablejack, 22 comments \n",
      "NZ Advertisement., par Late_One_716, 13 comments \n",
      "Occupied Crimea TV was hacked, all channels showed a speech from Zelenskyy & Zaluzhnyi. The name of all channels was changed to “Putin Khuilo (Putin is a dick), par TotalSpaceNut, 100 comments \n",
      "ohWell, par Github_Boi, 12 comments \n",
      "One of the best plot twists you’ll read, par Remarkable_Toe2603, 130 comments \n",
      "Porn addict girl at TX school board meeting is actually a PR shill for a competing book fair company... And was actually home schooled!, par lurkity_mclurkington, 156 comments \n",
      "rip bozo, par umbral_ultimatum, 135 comments \n",
      "Scalable Inference for Latent Dirichlet Allocation, par James Petterson, Tiberio Caetano, ames Petterson, Tiberio Caetano coauthors \n",
      "She’s got your smile, par xxprettyxcv, 8 comments \n",
      "Shit, par solid_khalid, 85 comments \n",
      "Similarity-based Random Partition Distribution for Clustering Functional  Data, par Tomoya Wakayama, Shonosuke Sugasawa, Genya Kobayashi, omoya Wakayama, Shonosuke Sugasawa, Genya Kobayashi coauthors \n",
      "Skillful unskilled labor, par Individual_Book9133, 1155 comments \n",
      "Some insane card skills, par AnalDwelinButtMonkey, 103 comments \n",
      "Spectral analysis of communication networks using Dirichlet eigenvalues, par Alexander Tsiatas, Iraj Saniee, Onuttom Narayan, Matthew Andrews, lexander Tsiatas, Iraj Saniee, Onuttom Narayan, Matthew Andrews coauthors \n",
      "Star Rail wins iPhone Game of the Year, par neverplatonic, 109 comments \n",
      "Stonks, par reddot_comic, 188 comments \n",
      "Tear in my eyes. Loneliness is real, par RedditUserOfAmerica, 595 comments \n",
      "terraria wiki, par Able_Health744, 239 comments \n",
      "That stupid fish can suck it. Big Dinosaur lizard supremacy, par StaleUnderwear, 116 comments \n",
      "THE DAY HATH COME, par PressFtoHoldMyHand, 295 comments \n",
      "The details are very meticulous and beautiful. I really like this work, par Leia_Kaytlyn, 64 comments \n",
      "The ending was completely deserved and hilarious, par Ok-Guess-3817, 219 comments \n",
      "The guys ticked the vibe check box, par gingiviitis, 14 comments \n",
      "The Kiss of death, par ReviewOk929, 448 comments \n",
      "The one thank you to Rolling Stone, par TxtyouK, 285 comments \n",
      "The supervised hierarchical Dirichlet process, par Andrew M. Dai, Amos J. Storkey, ndrew M. Dai, Amos J. Storkey coauthors \n",
      "The worst hunting dog in the world, par bsurfn2day, 147 comments \n",
      "These were found in my wife’s grandfathers stuff after he passed on., par duhbiap, 765 comments \n",
      "THIS IS NOT A DRILL, REPTE THIS IS NOT A DRILL, par Chad_at_life, 213 comments \n",
      "This is precious., par SeniorInvestigator81, 17 comments \n",
      "This little mouse feels very safe with his cat friend, par Educational_Deal_376, 31 comments \n",
      "Thought this could fit here: \"The beach you've visited most\" , by me, acrylics on canvas, 2023, par dergeraet93, 287 comments \n",
      "TIL about the Shirley exception, a mythical exception to a draconian law, so named because supporters of the law will argue that \"surely there will be exceptions for truly legitimate needs\" even in cases where the law does not in fact provide any., par JosZo, 181 comments \n",
      "True, par lhomme21, 113 comments \n",
      "Trump Caught Moving Money Around to Pay Massive Tax Bill. Trump wasn't supposed to be moving significant amounts of money around without notifying a court-appointed auditor. He just got caught paying himself so he could pay his taxes. | High Wire Transfer, par News-Flunky, 529 comments \n",
      "Trump Caught Moving Money Around to Pay Massive Tax Bill. | Trump wasn't supposed to be moving significant amounts of money around without notifying a court-appointed auditor. He just got caught paying himself so he could pay his taxes., par GonzoVeritas, 920 comments \n",
      "Twink, par ras2193, 108 comments \n",
      "Ubisoft accidentally releases Beyond Good and Evil remaster, remembers it doesn't do that sort of thing, attempts to scrub all trace from the internet, then gives up and announces it anyway | PC Gamer, par Songhunter, 382 comments \n",
      "Uganda have qualified for their first major event, they're going to the T20 World Cup, par thatguybruv, 126 comments \n",
      "We are so back bros, par BasedAndMarketPilled, 358 comments \n",
      "What is something in recent times that has gone too far but no one will admit?, par shado-walkerrrr, 4676 comments \n",
      "Which countries in the world have banned the burqa?, par theworldmaps, 796 comments \n",
      "Why would you do this to her!! 😭😭😭, par Alora_Abhaya, 34 comments \n",
      "WIBTAH for thinking about calling off my engagement because my fiancé lied to his family about us having kids?, par Lonely-Connection121, 442 comments \n",
      "World needs more Gregs, par My_Memes_Will_Cure_U, 32 comments \n",
      "Ya he is smart and lucky, par Previous_Reporter_63, 29 comments \n",
      "You want it, we got it!, par MatchesM3, 35 comments \n",
      "🌟👃, par After_Cap_186, 99 comments \n",
      "🔥A friendly fox in a field🦊, par SecondCropCreative, 28 comments \n",
      "🥳, par rebelliousmuse, 323 comments \n",
      "🫵🏻🫵🏻, par hardimages, 177 comments \n"
     ]
    }
   ],
   "source": [
    "from Corpus import Corpus\n",
    "corpus = Corpus(\"Mon corpus\")\n",
    "\n",
    "# Construction du corpus à partir des documents\n",
    "for doc in collection:\n",
    "    corpus.add(doc)\n",
    "#corpus.show(tri=\"abc\")\n",
    "#print(repr(corpus))\n",
    "\n",
    "\n",
    "print(corpus)\n",
    "\n"
   ]
  },
  {
   "cell_type": "code",
   "execution_count": 11,
   "id": "6ce1e7fe",
   "metadata": {},
   "outputs": [],
   "source": [
    "import ipywidgets as widgets\n",
    "from matplotlib import pyplot as plt"
   ]
  },
  {
   "cell_type": "code",
   "execution_count": 19,
   "id": "ca53fc33",
   "metadata": {},
   "outputs": [
    {
     "name": "stdout",
     "output_type": "stream",
     "text": [
      "Using matplotlib backend: <object object at 0x000002B6EEC653E0>\n"
     ]
    },
    {
     "data": {
      "application/vnd.jupyter.widget-view+json": {
       "model_id": "8fd1d82a53d54a5e8ade4a561c98ba73",
       "version_major": 2,
       "version_minor": 0
      },
      "text/plain": [
       "Text(value='Hello World', description='String:', placeholder='Type something')"
      ]
     },
     "execution_count": 19,
     "metadata": {},
     "output_type": "execute_result"
    }
   ],
   "source": [
    "%matplotlib\n",
    "widgets.Text(\n",
    "    value='Hello World',\n",
    "    placeholder='Type something',\n",
    "    description='String:',\n",
    "    disabled=False\n",
    ")"
   ]
  },
  {
   "cell_type": "markdown",
   "id": "079fdcea",
   "metadata": {},
   "source": [
    " #  Formulaireeeeeeeeeeeeeeeeeeeeeeee"
   ]
  },
  {
   "cell_type": "markdown",
   "id": "bf29be71",
   "metadata": {},
   "source": [
    "## Entrez votre chose:"
   ]
  },
  {
   "cell_type": "code",
   "execution_count": 18,
   "id": "750c9765",
   "metadata": {},
   "outputs": [],
   "source": [
    "import re"
   ]
  },
  {
   "cell_type": "code",
   "execution_count": 62,
   "id": "550efad7",
   "metadata": {},
   "outputs": [],
   "source": [
    "a = \"ale\"\n",
    "b = \" le alexis est aler les bleus super bg\""
   ]
  },
  {
   "cell_type": "code",
   "execution_count": 99,
   "id": "d59d9b52",
   "metadata": {},
   "outputs": [],
   "source": [
    "b = b.split(\" \")"
   ]
  },
  {
   "cell_type": "code",
   "execution_count": null,
   "id": "cebb1599",
   "metadata": {},
   "outputs": [],
   "source": [
    "re.finditer(pattern, string[, flags]) "
   ]
  },
  {
   "cell_type": "code",
   "execution_count": 100,
   "id": "97f73fba",
   "metadata": {},
   "outputs": [
    {
     "ename": "TypeError",
     "evalue": "expected string or bytes-like object",
     "output_type": "error",
     "traceback": [
      "\u001b[1;31m---------------------------------------------------------------------------\u001b[0m",
      "\u001b[1;31mTypeError\u001b[0m                                 Traceback (most recent call last)",
      "Cell \u001b[1;32mIn[100], line 1\u001b[0m\n\u001b[1;32m----> 1\u001b[0m v \u001b[38;5;241m=\u001b[39m \u001b[43mre\u001b[49m\u001b[38;5;241;43m.\u001b[39;49m\u001b[43msearch\u001b[49m\u001b[43m(\u001b[49m\u001b[43ma\u001b[49m\u001b[43m,\u001b[49m\u001b[43m \u001b[49m\u001b[43mb\u001b[49m\u001b[43m)\u001b[49m\n",
      "File \u001b[1;32mC:\\Anaconda3\\lib\\re.py:200\u001b[0m, in \u001b[0;36msearch\u001b[1;34m(pattern, string, flags)\u001b[0m\n\u001b[0;32m    197\u001b[0m \u001b[38;5;28;01mdef\u001b[39;00m \u001b[38;5;21msearch\u001b[39m(pattern, string, flags\u001b[38;5;241m=\u001b[39m\u001b[38;5;241m0\u001b[39m):\n\u001b[0;32m    198\u001b[0m \u001b[38;5;250m    \u001b[39m\u001b[38;5;124;03m\"\"\"Scan through string looking for a match to the pattern, returning\u001b[39;00m\n\u001b[0;32m    199\u001b[0m \u001b[38;5;124;03m    a Match object, or None if no match was found.\"\"\"\u001b[39;00m\n\u001b[1;32m--> 200\u001b[0m     \u001b[38;5;28;01mreturn\u001b[39;00m \u001b[43m_compile\u001b[49m\u001b[43m(\u001b[49m\u001b[43mpattern\u001b[49m\u001b[43m,\u001b[49m\u001b[43m \u001b[49m\u001b[43mflags\u001b[49m\u001b[43m)\u001b[49m\u001b[38;5;241;43m.\u001b[39;49m\u001b[43msearch\u001b[49m\u001b[43m(\u001b[49m\u001b[43mstring\u001b[49m\u001b[43m)\u001b[49m\n",
      "\u001b[1;31mTypeError\u001b[0m: expected string or bytes-like object"
     ]
    }
   ],
   "source": [
    "v = re.search(a, b)"
   ]
  },
  {
   "cell_type": "code",
   "execution_count": 73,
   "id": "e977739e",
   "metadata": {},
   "outputs": [
    {
     "name": "stdout",
     "output_type": "stream",
     "text": [
      "ale\n",
      "ale\n"
     ]
    }
   ],
   "source": [
    "for x in range(0, len(c)):\n",
    "    monx = c[x][0] \n",
    "    mony = c[x][1]\n",
    "    print([monx:mony])"
   ]
  },
  {
   "cell_type": "code",
   "execution_count": 114,
   "id": "87fe5121",
   "metadata": {},
   "outputs": [],
   "source": [
    "import re\n",
    "fruit_list = b\n",
    "berry_idx = [i for i in fruit_list if re.search('$ale$', i)]"
   ]
  },
  {
   "cell_type": "code",
   "execution_count": 115,
   "id": "b8e7fca3",
   "metadata": {},
   "outputs": [
    {
     "data": {
      "text/plain": [
       "[]"
      ]
     },
     "execution_count": 115,
     "metadata": {},
     "output_type": "execute_result"
    }
   ],
   "source": [
    "berry_idx"
   ]
  },
  {
   "cell_type": "code",
   "execution_count": 125,
   "id": "220164c4",
   "metadata": {},
   "outputs": [
    {
     "name": "stdout",
     "output_type": "stream",
     "text": [
      "['alexis', 'est', 'aler', 'les', 'bleus']\n"
     ]
    }
   ],
   "source": [
    "a = b.index(\"aler\")\n",
    "windows = 2\n",
    "print(b[a - windows:a + windows+1])"
   ]
  },
  {
   "cell_type": "code",
   "execution_count": 133,
   "id": "ce564d3d",
   "metadata": {},
   "outputs": [
    {
     "ename": "AttributeError",
     "evalue": "'Corpus' object has no attribute 'texte'",
     "output_type": "error",
     "traceback": [
      "\u001b[1;31m---------------------------------------------------------------------------\u001b[0m",
      "\u001b[1;31mAttributeError\u001b[0m                            Traceback (most recent call last)",
      "Cell \u001b[1;32mIn[133], line 1\u001b[0m\n\u001b[1;32m----> 1\u001b[0m \u001b[43mcorpus\u001b[49m\u001b[38;5;241;43m.\u001b[39;49m\u001b[43mtexte\u001b[49m\n",
      "\u001b[1;31mAttributeError\u001b[0m: 'Corpus' object has no attribute 'texte'"
     ]
    }
   ],
   "source": [
    "corpus.texte"
   ]
  },
  {
   "cell_type": "code",
   "execution_count": 131,
   "id": "955c4194",
   "metadata": {},
   "outputs": [
    {
     "data": {
      "text/plain": [
       "\"We start with Poland\", par AshRiddle, 96 comments \n",
       "'Your Turn': United Auto Workers Launches Campaign to Unionize Tesla, par Sorin61, 218 comments \n",
       "2023 season summed up, par thala-for-a-reason7, 61 comments \n",
       "2meirl4meirl, par djeral, 11 comments \n",
       "3 killed, at least 11 injured in shooting attack near entrance to Jerusalem, par The2lackSUN, 614 comments \n",
       "[gayavatarstyle] You learn something new everyday!, par Amazingqueen97, 102 comments \n",
       "A Bayesian View of the Poisson-Dirichlet Process, par Wray Buntine, Marcus Hutter, ray Buntine, Marcus Hutter coauthors \n",
       "A Dirichlet Mixture Model of Hawkes Processes for Event Sequence  Clustering, par Hongteng Xu, Hongyuan Zha, ongteng Xu, Hongyuan Zha coauthors \n",
       "A giant macaron is given by france to every winner of the grand sumo tournament in japan, par GaddockTeegFunPolice, 61 comments \n",
       "A Hierarchical Dirichlet Process Model with Multiple Levels of  Clustering for Human EEG Seizure Modeling, par Drausin Wulsin, Shane Jensen, Brian Litt, rausin Wulsin, Shane Jensen, Brian Litt coauthors \n",
       "A missing person's page from an old high school yearbook, par Trashpit996, 87 comments \n",
       "A six-planet solar system in perfect synchrony has been found in the Milky Way, par scottmache025, 155 comments \n",
       "After only 9 days of use, is this normal?, par leftoright, 597 comments \n",
       "AITA for keeping my sister in the dark?, par ireta_orio, 59 comments \n",
       "Always think about your words, par telenova_tiberium, 71 comments \n",
       "Amazing Jack Sparrow imitation makeup, par T3TeddY-221, 76 comments \n",
       "An efficient algorithm for solving elliptic problems on percolation  clusters, par Chenlin Gu, henlin Gu coauthors \n",
       "Anthony Bourdain has always been right, par prailock, 196 comments \n",
       "Basically everyone on this sub’s experience over the past couple days, par Rough-Dizaster, 452 comments \n",
       "Bayesian Clustering of Transcription Factor Binding Motifs, par Shane T. Jensen, Jun S. Liu, hane T. Jensen, Jun S. Liu coauthors \n",
       "Bayesian mixture models (in)consistency for the number of clusters, par Louise Alamichel, Daria Bystrova, Julyan Arbel, Guillaume Kon Kam King, ouise Alamichel, Daria Bystrova, Julyan Arbel, Guillaume Kon Kam King coauthors \n",
       "Bayesian Nonparametric Multilevel Clustering with Group-Level Contexts, par Vu Nguyen, Dinh Phung, XuanLong Nguyen, Svetha Venkatesh, Hung Hai Bui, u Nguyen, Dinh Phung, XuanLong Nguyen, Svetha Venkatesh, Hung Hai Bui coauthors \n",
       "Bayesian nonparametric temporal dynamic clustering via autoregressive  Dirichlet priors, par Maria De Iorio, Stefano Favaro, Alessandra Guglielmi, Lifeng Ye, aria De Iorio, Stefano Favaro, Alessandra Guglielmi, Lifeng Ye coauthors \n",
       "Beta-Product Poisson-Dirichlet Processes, par Federico Bassetti, Roberto Casarin, Fabrizio Leisen, ederico Bassetti, Roberto Casarin, Fabrizio Leisen coauthors \n",
       "Big sad, par Conscious-Aioli-1551, 64 comments \n",
       "Blahaj in a suit, par King_Pee, 33 comments \n",
       "Bro got drowned by a lake, par thexbeatboxer, 430 comments \n",
       "Brushy brushy, par My_Memes_Will_Cure_U, 10 comments \n",
       "Cheesecake factory remix, par Tall-Stretch-8716, 555 comments \n",
       "Choose A Table: Tensor Dirichlet Process Multinomial Mixture Model with  Graphs for Passenger Trajectory Clustering, par Ziyue Li, Hao Yan, Chen Zhang, Lijun Sun, Wolfgang Ketter, Fugee Tsung, iyue Li, Hao Yan, Chen Zhang, Lijun Sun, Wolfgang Ketter, Fugee Tsung coauthors \n",
       "Clustering consistency with Dirichlet process mixtures, par Filippo Ascolani, Antonio Lijoi, Giovanni Rebaudo, Giacomo Zanella, ilippo Ascolani, Antonio Lijoi, Giovanni Rebaudo, Giacomo Zanella coauthors \n",
       "Colouring and breaking sticks: random distributions and heterogeneous  clustering, par Peter J. Green, eter J. Green coauthors \n",
       "Confirmed wala na ang KathNiel 😭, par Actual_Fox_4004, 806 comments \n",
       "Conjoined Dirichlet Process, par Michelle N. Ngo, Dustin S. Pluta, Alexander N. Ngo, Babak Shahbaba, ichelle N. Ngo, Dustin S. Pluta, Alexander N. Ngo, Babak Shahbaba coauthors \n",
       "Consistency Analysis for the Doubly Stochastic Dirichlet Process, par Xing Sun, Nelson H. C. Yung, Edmund Y. Lam, Hayden K. -H. So, ing Sun, Nelson H. C. Yung, Edmund Y. Lam, Hayden K. -H. So coauthors \n",
       "Controversial Educational Practices, par Addilyn_Ambar, 442 comments \n",
       "Cursed_code, par ANMSSHITPOSTER, 37 comments \n",
       "Degenbrecher's inability to use art (by soporpenguin, TL by me), par Dedpul1994, 69 comments \n",
       "deleted scene where david wallace makes ryan cry, par carrotwhirl, 56 comments \n",
       "DIMM-SC: A Dirichlet mixture model for clustering droplet-based single  cell transcriptomic data, par Zhe Sun, Ting Wang, Ke Deng, Xiao-Feng Wang, Robert Lafyatis, Ying Ding, Ming Hu, Wei Chen, he Sun, Ting Wang, Ke Deng, Xiao-Feng Wang, Robert Lafyatis, Ying Ding, Ming Hu, Wei Chen coauthors \n",
       "Dirichlet Fragmentation Processes, par Hong Ge, Yarin Gal, Zoubin Ghahramani, ong Ge, Yarin Gal, Zoubin Ghahramani coauthors \n",
       "Dirichlet Process Mixtures of Generalized Mallows Models, par Marina Meila, Harr Chen, arina Meila, Harr Chen coauthors \n",
       "Dirichlet-tree multinomial mixtures for clustering microbiome  compositions, par Jialiang Mao, Li Ma, ialiang Mao, Li Ma coauthors \n",
       "DIVA: A Dirichlet Process Mixtures Based Incremental Deep Clustering  Algorithm via Variational Auto-Encoder, par Zhenshan Bing, Yuan Meng, Yuqi Yun, Hang Su, Xiaojie Su, Kai Huang, Alois Knoll, henshan Bing, Yuan Meng, Yuqi Yun, Hang Su, Xiaojie Su, Kai Huang, Alois Knoll coauthors \n",
       "Dr. Henry Kissinger Dies at Age 100, par tinykidtoo, 922 comments \n",
       "Dynamic Clustering via Asymptotics of the Dependent Dirichlet Process  Mixture, par Trevor Campbell, Miao Liu, Brian Kulis, Jonathan P. How, Lawrence Carin, revor Campbell, Miao Liu, Brian Kulis, Jonathan P. How, Lawrence Carin coauthors \n",
       "Elon tells Bob Iger to “go f*ck yourself”, par pstbo, 4455 comments \n",
       "Explain please (I don’t read about other places’ politics), par tf2good, 89 comments \n",
       "Explanied by Omni man, par Finitegamer2004, 66 comments \n",
       "Fair Clustering via Hierarchical Fair-Dirichlet Process, par Abhisek Chakraborty, Anirban Bhattacharya, Debdeep Pati, bhisek Chakraborty, Anirban Bhattacharya, Debdeep Pati coauthors \n",
       "Flexible clustering via hidden hierarchical Dirichlet priors, par Antonio Lijoi, Igor Prünster, Giovanni Rebaudo, ntonio Lijoi, Igor Prünster, Giovanni Rebaudo coauthors \n",
       "Flexible Priors for Exemplar-based Clustering, par Daniel Tarlow, Richard S. Zemel, Brendan J. Frey, aniel Tarlow, Richard S. Zemel, Brendan J. Frey coauthors \n",
       "Footage from security cameras of the shooting attack this morning in Jerusalem. , par TheBadassCat, 374 comments \n",
       "For some reason the official windows account only follows this one person, par gravityVT, 388 comments \n",
       "From here to infinity - sparse finite versus Dirichlet process mixtures  in model-based clustering, par Sylvia Frühwirth-Schnatter, Gertraud Malsiner-Walli, ylvia Frühwirth-Schnatter, Gertraud Malsiner-Walli coauthors \n",
       "Functional clustering in nested designs: Modeling variability in  reproductive epidemiology studies, par Abel Rodriguez, David B. Dunson, bel Rodriguez, David B. Dunson coauthors \n",
       "George Bush Sr’s dog got so fat in 1992 that he had to send this memo to all White House staff, par frituurgarnituur, 96 comments \n",
       "Gibbs Sampling for (Coupled) Infinite Mixture Models in the Stick  Breaking Representation, par Ian Porteous, Alexander T. Ihler, Padhraic Smyth, Max Welling, an Porteous, Alexander T. Ihler, Padhraic Smyth, Max Welling coauthors \n",
       "Graphical Dirichlet Process for Clustering Non-Exchangeable Grouped Data, par Arhit Chakrabarti, Yang Ni, Ellen Ruth A. Morris, Michael L. Salinas, Robert S. Chapkin, Bani K. Mallick, rhit Chakrabarti, Yang Ni, Ellen Ruth A. Morris, Michael L. Salinas, Robert S. Chapkin, Bani K. Mallick coauthors \n",
       "Gus 100% believes Grammy’s visits are for him. He’s not wrong, par Fishmike52, 188 comments \n",
       "Henry Kissinger, secretary of state to Richard Nixon, dies at 100, par MrRedXiii, 2930 comments \n",
       "Heterogeneous Regression Models for Clusters of Spatial Dependent Data, par Zhihua Ma, Yishu Xue, Guanyu Hu, hihua Ma, Yishu Xue, Guanyu Hu coauthors \n",
       "Hierarchical Dirichlet Process and Relative Entropy, par Shui Feng, hui Feng coauthors \n",
       "Hierarchical Latent Word Clustering, par Halid Ziya Yerebakan, Fitsum Reda, Yiqiang Zhan, Yoshihisa Shinagawa, alid Ziya Yerebakan, Fitsum Reda, Yiqiang Zhan, Yoshihisa Shinagawa coauthors \n",
       "How can someone be offended by this young boy. (2 pics), par jray1126, 412 comments \n",
       "howdy neighbor, par SeeminglySusan, 193 comments \n",
       "I PROMISE I DIDNT DO ANYTHING, IT WASNT ME, par the-vindicator, 151 comments \n",
       "I purposely farted in front of guy at the gym because he wouldn't take no for an answer., par Titfortat101, 1432 comments \n",
       "I swear we all had the same childhood 😂😂, par trancatt, 67 comments \n",
       "I think this fits here, par kohta_KAJAhtaa, 291 comments \n",
       "Ich platze, wenn ich es nicht ausspreche!, par OKVoice1, 260 comments \n",
       "If Qui-Gon Jinn survived and joined the Clone Wars, par K-jun1117, 293 comments \n",
       "Informed Bayesian Finite Mixture Models via Asymmetric Dirichlet Priors, par Garritt L. Page, Massimo Ventrucci, Maria Franco-Villoria, arritt L. Page, Massimo Ventrucci, Maria Franco-Villoria coauthors \n",
       "Invariant Percolation and Harmonic Dirichlet Functions, par Damien Gaboriau, amien Gaboriau coauthors \n",
       "It’s quicker too, par DaveTheRocketGuy, 336 comments \n",
       "Joint Clustering and Registration of Functional Data, par Yafeng Zhang, Donatello Telesca, afeng Zhang, Donatello Telesca coauthors \n",
       "KISSINGER IS DEAD, par TheIxbot, 1841 comments \n",
       "Large abdominal hernia, par Creams0da, 342 comments \n",
       "Lawyer Lost Everything for Trump, Now He Must Use His Wife's Retirement to Pay His Legal Bills Since Trump Won't Help, par MuthaPlucka, 615 comments \n",
       "Look how they massacred my boyy, par Difficult_Leading551, 98 comments \n",
       "Look out!, par DCArchibald, 288 comments \n",
       "Maybe maybe maybe, par cgsimmons1983, 107 comments \n",
       "me irl, par Anas_Elgarhy, 90 comments \n",
       "meirl, par arshhhhh, 58 comments \n",
       "Mom can teleport, par Fightin_Rooster, 102 comments \n",
       "Musk to advertisers: Go fuck yourself, par ExactlySorta, 2333 comments \n",
       "My wife. Early 80s., par CHhVCq, 105 comments \n",
       "Mysterious woman tells school board that Scholastic book sparked porn addiction, par -Appleaday-, 566 comments \n",
       "Never order \"gourmet\" pizza, par VrondisEyes, 2068 comments \n",
       "No luck, par Comfortablejack, 35 comments \n",
       "Nonparametric Variable Selection, Clustering and Prediction for  High-Dimensional Regression, par Subharup Guha, Veerabhadran Baladandayuthapani, ubharup Guha, Veerabhadran Baladandayuthapani coauthors \n",
       "Numerical conformal mapping with rational functions, par Lloyd N. Trefethen, loyd N. Trefethen coauthors \n",
       "NZ Advertisement., par Late_One_716, 15 comments \n",
       "Occupied Crimea TV was hacked, all channels showed a speech from Zelenskyy & Zaluzhnyi. The name of all channels was changed to “Putin Khuilo (Putin is a dick), par TotalSpaceNut, 101 comments \n",
       "Oh God! Have mercy!, par Mr-Peacefull, 44 comments \n",
       "ohWell, par Github_Boi, 18 comments \n",
       "On r/facepalm, par Inevitable-Cellist23, 120 comments \n",
       "On the Variational Posterior of Dirichlet Process Deep Latent Gaussian  Mixture Models, par Amine Echraibi, Joachim Flocon-Cholet, Stéphane Gosselin, Sandrine Vaton, mine Echraibi, Joachim Flocon-Cholet, Stéphane Gosselin, Sandrine Vaton coauthors \n",
       "One of the best plot twists you’ll read, par Remarkable_Toe2603, 203 comments \n",
       "Parallel Clustering of Single Cell Transcriptomic Data with Split-Merge  Sampling on Dirichlet Process Mixtures, par Tiehang Duan, José P. Pinto, Xiaohui Xie, iehang Duan, José P. Pinto, Xiaohui Xie coauthors \n",
       "Percolation Perturbations in Potential Theory and Random Walks, par Itai Benjamini, Russell Lyons, Oded Schramm, tai Benjamini, Russell Lyons, Oded Schramm coauthors \n",
       "Porn addict girl at TX school board meeting is actually a PR shill for a competing book fair company... And was actually home schooled!, par lurkity_mclurkington, 160 comments \n",
       "Posterior Distribution for the Number of Clusters in Dirichlet Process  Mixture Models, par Chiao-Yu Yang, Eric Xia, Nhat Ho, Michael I. Jordan, hiao-Yu Yang, Eric Xia, Nhat Ho, Michael I. Jordan coauthors \n",
       "Powered Dirichlet Process for Controlling the Importance of  \"Rich-Get-Richer\" Prior Assumptions in Bayesian Clustering, par Gaël Poux-Médard, Julien Velcin, Sabine Loudcher, aël Poux-Médard, Julien Velcin, Sabine Loudcher coauthors \n",
       "Powered Hawkes-Dirichlet Process: Challenging Textual Clustering using a  Flexible Temporal Prior, par Gaël Poux-Médard, Julien Velcin, Sabine Loudcher, aël Poux-Médard, Julien Velcin, Sabine Loudcher coauthors \n",
       "Predictive Hierarchical Clustering: Learning clusters of CPT codes for  improving surgical outcomes, par Elizabeth C. Lorenzi, Stephanie L. Brown, Zhifei Sun, Katherine Heller, lizabeth C. Lorenzi, Stephanie L. Brown, Zhifei Sun, Katherine Heller coauthors \n",
       "Revisiting k-means: New Algorithms via Bayesian Nonparametrics, par Brian Kulis, Michael I. Jordan, rian Kulis, Michael I. Jordan coauthors \n",
       "Scalable Inference for Latent Dirichlet Allocation, par James Petterson, Tiberio Caetano, ames Petterson, Tiberio Caetano coauthors \n",
       "She’s got your smile, par xxprettyxcv, 14 comments \n",
       "Shit, par solid_khalid, 90 comments \n",
       "Similarity-based Random Partition Distribution for Clustering Functional  Data, par Tomoya Wakayama, Shonosuke Sugasawa, Genya Kobayashi, omoya Wakayama, Shonosuke Sugasawa, Genya Kobayashi coauthors \n",
       "Skillful unskilled labor, par Individual_Book9133, 1223 comments \n",
       "Spectral analysis of communication networks using Dirichlet eigenvalues, par Alexander Tsiatas, Iraj Saniee, Onuttom Narayan, Matthew Andrews, lexander Tsiatas, Iraj Saniee, Onuttom Narayan, Matthew Andrews coauthors \n",
       "Star Rail wins iPhone Game of the Year, par neverplatonic, 109 comments \n",
       "Stonks, par reddot_comic, 215 comments \n",
       "Tear in my eyes. Loneliness is real, par RedditUserOfAmerica, 600 comments \n",
       "Tensor Dirichlet Process Multinomial Mixture Model for Passenger  Trajectory Clustering, par Ziyue Li, Hao Yan, Chen Zhang, Andi Wang, Wolfgang Ketter, Lijun Sun, Fugee Tsung, iyue Li, Hao Yan, Chen Zhang, Andi Wang, Wolfgang Ketter, Lijun Sun, Fugee Tsung coauthors \n",
       "That stupid fish can suck it. Big Dinosaur lizard supremacy, par StaleUnderwear, 122 comments \n",
       "THE DAY HATH COME, par PressFtoHoldMyHand, 316 comments \n",
       "The details are very meticulous and beautiful. I really like this work, par Leia_Kaytlyn, 71 comments \n",
       "The ending was completely deserved and hilarious, par Ok-Guess-3817, 242 comments \n",
       "The guys ticked the vibe check box, par gingiviitis, 16 comments \n",
       "The Kiss of death, par ReviewOk929, 478 comments \n",
       "The one thank you to Rolling Stone, par TxtyouK, 296 comments \n",
       "The semi-hierarchical Dirichlet Process and its application to  clustering homogeneous distributions, par Mario Beraha, Alessandra Guglielmi, Fernando A. Quintana, ario Beraha, Alessandra Guglielmi, Fernando A. Quintana coauthors \n",
       "The supervised hierarchical Dirichlet process, par Andrew M. Dai, Amos J. Storkey, ndrew M. Dai, Amos J. Storkey coauthors \n",
       "The worst hunting dog in the world, par bsurfn2day, 187 comments \n",
       "These were found in my wife’s grandfathers stuff after he passed on., par duhbiap, 868 comments \n",
       "THIS IS NOT A DRILL, REPTE THIS IS NOT A DRILL, par Chad_at_life, 215 comments \n",
       "This little mouse feels very safe with his cat friend, par Educational_Deal_376, 34 comments \n",
       "Thought this could fit here: \"The beach you've visited most\" , by me, acrylics on canvas, 2023, par dergeraet93, 288 comments \n",
       "TIL about the Shirley exception, a mythical exception to a draconian law, so named because supporters of the law will argue that \"surely there will be exceptions for truly legitimate needs\" even in cases where the law does not in fact provide any., par JosZo, 218 comments \n",
       "Timelapse of orange mini bell pepper ( 123 days in 42 seconds ) , par amartyamishraaa, 19 comments \n",
       "Topic Detection from Conversational Dialogue Corpus with Parallel  Dirichlet Allocation Model and Elbow Method, par Haider Khalid, Vincent Wade, aider Khalid, Vincent Wade coauthors \n",
       "True, par lhomme21, 115 comments \n",
       "Trump Caught Moving Money Around to Pay Massive Tax Bill. Trump wasn't supposed to be moving significant amounts of money around without notifying a court-appointed auditor. He just got caught paying himself so he could pay his taxes. | High Wire Transfer, par News-Flunky, 532 comments \n",
       "Trump Caught Moving Money Around to Pay Massive Tax Bill. | Trump wasn't supposed to be moving significant amounts of money around without notifying a court-appointed auditor. He just got caught paying himself so he could pay his taxes., par GonzoVeritas, 943 comments \n",
       "Twink, par ras2193, 112 comments \n",
       "Ubisoft accidentally releases Beyond Good and Evil remaster, remembers it doesn't do that sort of thing, attempts to scrub all trace from the internet, then gives up and announces it anyway | PC Gamer, par Songhunter, 390 comments \n",
       "Uganda have qualified for their first major event, they're going to the T20 World Cup, par thatguybruv, 137 comments \n",
       "Welcome home daddy!, par Human_Wash_8621, 24 comments \n",
       "Which countries in the world have banned the burqa?, par theworldmaps, 918 comments \n",
       "Why would you do this to her!! 😭😭😭, par Alora_Abhaya, 36 comments \n",
       "WIBTAH for thinking about calling off my engagement because my fiancé lied to his family about us having kids?, par Lonely-Connection121, 477 comments \n",
       "World needs more Gregs, par My_Memes_Will_Cure_U, 43 comments \n",
       "Ya he is smart and lucky, par Previous_Reporter_63, 72 comments \n",
       "You want it, we got it!, par MatchesM3, 42 comments \n",
       "🔥 Butterflies drink turtle tears as a source of sodium and minerals. In turn, the turtles get their eyes cleaned 🔥, par My_Memes_Will_Cure_U, 26 comments \n",
       "🥳, par rebelliousmuse, 324 comments \n",
       "🫵🏻🫵🏻, par hardimages, 177 comments "
      ]
     },
     "execution_count": 131,
     "metadata": {},
     "output_type": "execute_result"
    }
   ],
   "source": [
    "corpus."
   ]
  },
  {
   "cell_type": "code",
   "execution_count": null,
   "id": "36efb01b",
   "metadata": {},
   "outputs": [],
   "source": []
  },
  {
   "cell_type": "code",
   "execution_count": null,
   "id": "fd36c7dc",
   "metadata": {},
   "outputs": [],
   "source": []
  },
  {
   "cell_type": "code",
   "execution_count": 14,
   "id": "1465da72",
   "metadata": {},
   "outputs": [
    {
     "name": "stdout",
     "output_type": "stream",
     "text": [
      "\"We start with Poland\", par AshRiddle, 77 comments \n",
      "'Your Turn': United Auto Workers Launches Campaign to Unionize Tesla, par Sorin61, 165 comments \n",
      "2023 season summed up, par thala-for-a-reason7, 57 comments \n",
      "3 killed, at least 11 injured in shooting attack near entrance to Jerusalem, par The2lackSUN, 504 comments \n",
      "[gayavatarstyle] You learn something new everyday!, par Amazingqueen97, 100 comments \n",
      "A giant macaron is given by france to every winner of the grand sumo tournament in japan, par GaddockTeegFunPolice, 37 comments \n",
      "A Hierarchical Dirichlet Process Model with Multiple Levels of  Clustering for Human EEG Seizure Modeling, par Drausin Wulsin, Shane Jensen, Brian Litt, rausin Wulsin, Shane Jensen, Brian Litt coauthors \n",
      "A missing person's page from an old high school yearbook, par Trashpit996, 84 comments \n",
      "A six-planet solar system in perfect synchrony has been found in the Milky Way, par scottmache025, 149 comments \n",
      "After only 9 days of use, is this normal?, par leftoright, 465 comments \n",
      "Amazing Jack Sparrow imitation makeup, par T3TeddY-221, 62 comments \n",
      "Anthony Bourdain has always been right, par prailock, 173 comments \n",
      "Basically everyone on this sub’s experience over the past couple days, par Rough-Dizaster, 440 comments \n",
      "Big sad, par Conscious-Aioli-1551, 59 comments \n",
      "Blahaj in a suit, par King_Pee, 29 comments \n",
      "Bro got drowned by a lake, par thexbeatboxer, 420 comments \n",
      "Cheesecake factory remix, par Tall-Stretch-8716, 502 comments \n",
      "Clustering consistency with Dirichlet process mixtures, par Filippo Ascolani, Antonio Lijoi, Giovanni Rebaudo, Giacomo Zanella, ilippo Ascolani, Antonio Lijoi, Giovanni Rebaudo, Giacomo Zanella coauthors \n",
      "Confirmed wala na ang KathNiel 😭, par Actual_Fox_4004, 774 comments \n",
      "Controversial Educational Practices, par Addilyn_Ambar, 408 comments \n",
      "Cursed_code, par ANMSSHITPOSTER, 35 comments \n",
      "Degenbrecher's inability to use art (by soporpenguin, TL by me), par Dedpul1994, 66 comments \n",
      "deleted scene where david wallace makes ryan cry, par carrotwhirl, 47 comments \n",
      "Dirichlet Process Mixtures of Generalized Mallows Models, par Marina Meila, Harr Chen, arina Meila, Harr Chen coauthors \n",
      "Dirichlet-tree multinomial mixtures for clustering microbiome  compositions, par Jialiang Mao, Li Ma, ialiang Mao, Li Ma coauthors \n",
      "Dr. Henry Kissinger Dies at Age 100, par tinykidtoo, 916 comments \n",
      "Dynamic Clustering via Asymptotics of the Dependent Dirichlet Process  Mixture, par Trevor Campbell, Miao Liu, Brian Kulis, Jonathan P. How, Lawrence Carin, revor Campbell, Miao Liu, Brian Kulis, Jonathan P. How, Lawrence Carin coauthors \n",
      "Elon tells Bob Iger to “go f*ck yourself”, par pstbo, 4389 comments \n",
      "Explanied by Omni man, par Finitegamer2004, 56 comments \n",
      "Footage from security cameras of the shooting attack this morning in Jerusalem. , par TheBadassCat, 316 comments \n",
      "For some reason the official windows account only follows this one person, par gravityVT, 380 comments \n",
      "Free them from the shackles of cancel culture rants, par BPTeehee, 372 comments \n",
      "George Bush Sr’s dog got so fat in 1992 that he had to send this memo to all White House staff, par frituurgarnituur, 72 comments \n",
      "Gus 100% believes Grammy’s visits are for him. He’s not wrong, par Fishmike52, 168 comments \n",
      "Half of British Jews 'considering leaving the UK' amid 'staggering' rise in anti-Semitism, par HaTzoref, 613 comments \n",
      "Henry Kissinger, secretary of state to Richard Nixon, dies at 100, par MrRedXiii, 2933 comments \n",
      "Hierarchical Dirichlet Process and Relative Entropy, par Shui Feng, hui Feng coauthors \n",
      "howdy neighbor, par SeeminglySusan, 191 comments \n",
      "I PROMISE I DIDNT DO ANYTHING, IT WASNT ME, par the-vindicator, 147 comments \n",
      "I purposely farted in front of guy at the gym because he wouldn't take no for an answer., par Titfortat101, 1418 comments \n",
      "I think this fits here, par kohta_KAJAhtaa, 251 comments \n",
      "I'm totally lost here, par EmpanadaYGaseosa, 130 comments \n",
      "Ich platze, wenn ich es nicht ausspreche!, par OKVoice1, 250 comments \n",
      "If Qui-Gon Jinn survived and joined the Clone Wars, par K-jun1117, 289 comments \n",
      "It’s quicker too, par DaveTheRocketGuy, 242 comments \n",
      "KISSINGER IS DEAD, par TheIxbot, 1814 comments \n",
      "Large abdominal hernia, par Creams0da, 331 comments \n",
      "Lawyer Lost Everything for Trump, Now He Must Use His Wife's Retirement to Pay His Legal Bills Since Trump Won't Help, par MuthaPlucka, 601 comments \n",
      "Look how they massacred my boyy, par Difficult_Leading551, 71 comments \n",
      "Look out!, par DCArchibald, 275 comments \n",
      "Maybe maybe maybe, par cgsimmons1983, 99 comments \n",
      "me irl, par Anas_Elgarhy, 67 comments \n",
      "Meirl, par Majestic_Collar_6075, 80 comments \n",
      "Mom can teleport, par Fightin_Rooster, 92 comments \n",
      "Musk to advertisers: Go fuck yourself, par ExactlySorta, 2303 comments \n",
      "My friends attempt to not make me kill myself, par Kefyzz, 112 comments \n",
      "My wife. Early 80s., par CHhVCq, 91 comments \n",
      "Mysterious woman tells school board that Scholastic book sparked porn addiction, par -Appleaday-, 559 comments \n",
      "Never order \"gourmet\" pizza, par VrondisEyes, 2046 comments \n",
      "No luck, par Comfortablejack, 22 comments \n",
      "NZ Advertisement., par Late_One_716, 13 comments \n",
      "Occupied Crimea TV was hacked, all channels showed a speech from Zelenskyy & Zaluzhnyi. The name of all channels was changed to “Putin Khuilo (Putin is a dick), par TotalSpaceNut, 100 comments \n",
      "ohWell, par Github_Boi, 12 comments \n",
      "One of the best plot twists you’ll read, par Remarkable_Toe2603, 130 comments \n",
      "Porn addict girl at TX school board meeting is actually a PR shill for a competing book fair company... And was actually home schooled!, par lurkity_mclurkington, 156 comments \n",
      "rip bozo, par umbral_ultimatum, 135 comments \n",
      "Scalable Inference for Latent Dirichlet Allocation, par James Petterson, Tiberio Caetano, ames Petterson, Tiberio Caetano coauthors \n",
      "She’s got your smile, par xxprettyxcv, 8 comments \n",
      "Shit, par solid_khalid, 85 comments \n",
      "Similarity-based Random Partition Distribution for Clustering Functional  Data, par Tomoya Wakayama, Shonosuke Sugasawa, Genya Kobayashi, omoya Wakayama, Shonosuke Sugasawa, Genya Kobayashi coauthors \n",
      "Skillful unskilled labor, par Individual_Book9133, 1155 comments \n",
      "Some insane card skills, par AnalDwelinButtMonkey, 103 comments \n",
      "Spectral analysis of communication networks using Dirichlet eigenvalues, par Alexander Tsiatas, Iraj Saniee, Onuttom Narayan, Matthew Andrews, lexander Tsiatas, Iraj Saniee, Onuttom Narayan, Matthew Andrews coauthors \n",
      "Star Rail wins iPhone Game of the Year, par neverplatonic, 109 comments \n",
      "Stonks, par reddot_comic, 188 comments \n",
      "Tear in my eyes. Loneliness is real, par RedditUserOfAmerica, 595 comments \n",
      "terraria wiki, par Able_Health744, 239 comments \n",
      "That stupid fish can suck it. Big Dinosaur lizard supremacy, par StaleUnderwear, 116 comments \n",
      "THE DAY HATH COME, par PressFtoHoldMyHand, 295 comments \n",
      "The details are very meticulous and beautiful. I really like this work, par Leia_Kaytlyn, 64 comments \n",
      "The ending was completely deserved and hilarious, par Ok-Guess-3817, 219 comments \n",
      "The guys ticked the vibe check box, par gingiviitis, 14 comments \n",
      "The Kiss of death, par ReviewOk929, 448 comments \n",
      "The one thank you to Rolling Stone, par TxtyouK, 285 comments \n",
      "The supervised hierarchical Dirichlet process, par Andrew M. Dai, Amos J. Storkey, ndrew M. Dai, Amos J. Storkey coauthors \n",
      "The worst hunting dog in the world, par bsurfn2day, 147 comments \n",
      "These were found in my wife’s grandfathers stuff after he passed on., par duhbiap, 765 comments \n",
      "THIS IS NOT A DRILL, REPTE THIS IS NOT A DRILL, par Chad_at_life, 213 comments \n",
      "This is precious., par SeniorInvestigator81, 17 comments \n",
      "This little mouse feels very safe with his cat friend, par Educational_Deal_376, 31 comments \n",
      "Thought this could fit here: \"The beach you've visited most\" , by me, acrylics on canvas, 2023, par dergeraet93, 287 comments \n",
      "TIL about the Shirley exception, a mythical exception to a draconian law, so named because supporters of the law will argue that \"surely there will be exceptions for truly legitimate needs\" even in cases where the law does not in fact provide any., par JosZo, 181 comments \n",
      "True, par lhomme21, 113 comments \n",
      "Trump Caught Moving Money Around to Pay Massive Tax Bill. Trump wasn't supposed to be moving significant amounts of money around without notifying a court-appointed auditor. He just got caught paying himself so he could pay his taxes. | High Wire Transfer, par News-Flunky, 529 comments \n",
      "Trump Caught Moving Money Around to Pay Massive Tax Bill. | Trump wasn't supposed to be moving significant amounts of money around without notifying a court-appointed auditor. He just got caught paying himself so he could pay his taxes., par GonzoVeritas, 920 comments \n",
      "Twink, par ras2193, 108 comments \n",
      "Ubisoft accidentally releases Beyond Good and Evil remaster, remembers it doesn't do that sort of thing, attempts to scrub all trace from the internet, then gives up and announces it anyway | PC Gamer, par Songhunter, 382 comments \n",
      "Uganda have qualified for their first major event, they're going to the T20 World Cup, par thatguybruv, 126 comments \n",
      "We are so back bros, par BasedAndMarketPilled, 358 comments \n",
      "What is something in recent times that has gone too far but no one will admit?, par shado-walkerrrr, 4676 comments \n",
      "Which countries in the world have banned the burqa?, par theworldmaps, 796 comments \n",
      "Why would you do this to her!! 😭😭😭, par Alora_Abhaya, 34 comments \n",
      "WIBTAH for thinking about calling off my engagement because my fiancé lied to his family about us having kids?, par Lonely-Connection121, 442 comments \n",
      "World needs more Gregs, par My_Memes_Will_Cure_U, 32 comments \n",
      "Ya he is smart and lucky, par Previous_Reporter_63, 29 comments \n",
      "You want it, we got it!, par MatchesM3, 35 comments \n",
      "🌟👃, par After_Cap_186, 99 comments \n",
      "🔥A friendly fox in a field🦊, par SecondCropCreative, 28 comments \n",
      "🥳, par rebelliousmuse, 323 comments \n",
      "🫵🏻🫵🏻, par hardimages, 177 comments \n"
     ]
    }
   ],
   "source": [
    "print(corpus)"
   ]
  },
  {
   "cell_type": "code",
   "execution_count": 15,
   "id": "e629a083",
   "metadata": {
    "scrolled": true
   },
   "outputs": [
    {
     "data": {
      "text/plain": [
       "[Titre : One of the best plot twists you’ll read\tAuteur : Remarkable_Toe2603\tDate : 2023/11/30\tURL : https://www.reddit.com//r/memes/comments/187fodb/one_of_the_best_plot_twists_youll_read/\tTexte : \t,\n",
       " Titre : Skillful unskilled labor\tAuteur : Individual_Book9133\tDate : 2023/11/30\tURL : https://www.reddit.com//r/Damnthatsinteresting/comments/187al7t/skillful_unskilled_labor/\tTexte : \t,\n",
       " Titre : The worst hunting dog in the world\tAuteur : bsurfn2day\tDate : 2023/11/30\tURL : https://www.reddit.com//r/AnimalsBeingDerps/comments/187d9tg/the_worst_hunting_dog_in_the_world/\tTexte : \t,\n",
       " Titre : Twink\tAuteur : ras2193\tDate : 2023/11/30\tURL : https://www.reddit.com//r/tumblr/comments/187byhv/twink/\tTexte : \t,\n",
       " Titre : Stonks\tAuteur : reddot_comic\tDate : 2023/11/30\tURL : https://www.reddit.com//r/comics/comments/187d1y7/stonks/\tTexte : \t,\n",
       " Titre : Henry Kissinger, secretary of state to Richard Nixon, dies at 100\tAuteur : MrRedXiii\tDate : 2023/11/30\tURL : https://www.reddit.com//r/news/comments/18770kx/henry_kissinger_secretary_of_state_to_richard/\tTexte : \t,\n",
       " Titre : \"We start with Poland\"\tAuteur : AshRiddle\tDate : 2023/11/30\tURL : https://www.reddit.com//r/holdmycatnip/comments/187dxjx/we_start_with_poland/\tTexte : \t,\n",
       " Titre : KISSINGER IS DEAD\tAuteur : TheIxbot\tDate : 2023/11/30\tURL : https://www.reddit.com//r/iskissingerdeadyet/comments/1876ee7/kissinger_is_dead/\tTexte : [Dr. Henry Kissinger Dies at Age 100 (prnewswire.com)](https://www.prnewswire.com/news-releases/dr-henry-kissinger-dies-at-age-100-302001393.html)Good evening ladies and gentleman. Today is a glorious daya day that shall be rememberedmankind has been lightened of an evil vicious soulHENRY KISSINGER IS DEAD&#x200B;Read about his life, and his crimes: [Henry Kissinger, War Criminal, Dead at 100 (rollingstone.com)](https://www.rollingstone.com/politics/politics-news/henry-kissinger-war-criminal-dead-1234804748/) \t,\n",
       " Titre : Explanied by Omni man\tAuteur : Finitegamer2004\tDate : 2023/11/30\tURL : https://www.reddit.com//r/shitposting/comments/187cox9/explanied_by_omni_man/\tTexte : \t,\n",
       " Titre : The one thank you to Rolling Stone\tAuteur : TxtyouK\tDate : 2023/11/30\tURL : https://www.reddit.com//r/WitchesVsPatriarchy/comments/18777s7/the_one_thank_you_to_rolling_stone/\tTexte : \t,\n",
       " Titre : The Kiss of death\tAuteur : ReviewOk929\tDate : 2023/11/30\tURL : https://www.reddit.com//r/WhitePeopleTwitter/comments/18771lj/the_kiss_of_death/\tTexte : \t,\n",
       " Titre : 3 killed, at least 11 injured in shooting attack near entrance to Jerusalem\tAuteur : The2lackSUN\tDate : 2023/11/30\tURL : https://www.reddit.com//r/worldnews/comments/187dboi/3_killed_at_least_11_injured_in_shooting_attack/\tTexte : \t,\n",
       " Titre : You want it, we got it!\tAuteur : MatchesM3\tDate : 2023/11/30\tURL : https://www.reddit.com//r/technicallythetruth/comments/187are8/you_want_it_we_got_it/\tTexte : \t,\n",
       " Titre : 2023 season summed up\tAuteur : thala-for-a-reason7\tDate : 2023/11/30\tURL : https://www.reddit.com//r/formuladank/comments/187cglw/2023_season_summed_up/\tTexte : \t,\n",
       " Titre : Ich platze, wenn ich es nicht ausspreche!\tAuteur : OKVoice1\tDate : 2023/11/30\tURL : https://www.reddit.com//r/de/comments/187c8zl/ich_platze_wenn_ich_es_nicht_ausspreche/\tTexte : Mental Note to myself: die Menschen brauchen mehr Positives. Wiederlesen im neuen Jahr - mit soviel Resonanz hab ich hier echt nicht gerechnet....\t,\n",
       " Titre : 🌟👃\tAuteur : After_Cap_186\tDate : 2023/11/30\tURL : https://www.reddit.com//r/fixedbytheduet/comments/187ehe2/_/\tTexte : \t,\n",
       " Titre : Lawyer Lost Everything for Trump, Now He Must Use His Wife's Retirement to Pay His Legal Bills Since Trump Won't Help\tAuteur : MuthaPlucka\tDate : 2023/11/30\tURL : https://www.reddit.com//r/LeopardsAteMyFace/comments/18764mu/lawyer_lost_everything_for_trump_now_he_must_use/\tTexte : \t,\n",
       " Titre : 🥳\tAuteur : rebelliousmuse\tDate : 2023/11/30\tURL : https://www.reddit.com//r/ToiletPaperUSA/comments/18772a3/_/\tTexte : \t,\n",
       " Titre : Tear in my eyes. Loneliness is real\tAuteur : RedditUserOfAmerica\tDate : 2023/11/30\tURL : https://www.reddit.com//r/HumansBeingBros/comments/1874h1p/tear_in_my_eyes_loneliness_is_real/\tTexte : \t,\n",
       " Titre : Amazing Jack Sparrow imitation makeup\tAuteur : T3TeddY-221\tDate : 2023/11/30\tURL : https://www.reddit.com//r/BeAmazed/comments/187dqom/amazing_jack_sparrow_imitation_makeup/\tTexte : \t,\n",
       " Titre : TIL about the Shirley exception, a mythical exception to a draconian law, so named because supporters of the law will argue that \"surely there will be exceptions for truly legitimate needs\" even in cases where the law does not in fact provide any.\tAuteur : JosZo\tDate : 2023/11/30\tURL : https://www.reddit.com//r/todayilearned/comments/187aigx/til_about_the_shirley_exception_a_mythical/\tTexte : \t,\n",
       " Titre : These were found in my wife’s grandfathers stuff after he passed on.\tAuteur : duhbiap\tDate : 2023/11/30\tURL : https://www.reddit.com//r/pics/comments/1878u2l/these_were_found_in_my_wifes_grandfathers_stuff/\tTexte : \t,\n",
       " Titre : me irl\tAuteur : Anas_Elgarhy\tDate : 2023/11/30\tURL : https://www.reddit.com//r/me_irl/comments/187djjl/me_irl/\tTexte : \t,\n",
       " Titre : What is something in recent times that has gone too far but no one will admit?\tAuteur : shado-walkerrrr\tDate : 2023/11/30\tURL : https://www.reddit.com//r/AskReddit/comments/18797lo/what_is_something_in_recent_times_that_has_gone/\tTexte : \t,\n",
       " Titre : Look out!\tAuteur : DCArchibald\tDate : 2023/11/30\tURL : https://www.reddit.com//r/funny/comments/1876c99/look_out/\tTexte : \t,\n",
       " Titre : Which countries in the world have banned the burqa?\tAuteur : theworldmaps\tDate : 2023/11/30\tURL : https://www.reddit.com//r/MapPorn/comments/187dyw2/which_countries_in_the_world_have_banned_the_burqa/\tTexte : \t,\n",
       " Titre : I think this fits here\tAuteur : kohta_KAJAhtaa\tDate : 2023/11/30\tURL : https://www.reddit.com//r/KidsAreFuckingStupid/comments/187av7w/i_think_this_fits_here/\tTexte : \t,\n",
       " Titre : Ya he is smart and lucky\tAuteur : Previous_Reporter_63\tDate : 2023/11/30\tURL : https://www.reddit.com//r/Funnymemes/comments/187g2q8/ya_he_is_smart_and_lucky/\tTexte : \t,\n",
       " Titre : [gayavatarstyle] You learn something new everyday!\tAuteur : Amazingqueen97\tDate : 2023/11/30\tURL : https://www.reddit.com//r/TheLastAirbender/comments/1877spd/gayavatarstyle_you_learn_something_new_everyday/\tTexte : \t,\n",
       " Titre : George Bush Sr’s dog got so fat in 1992 that he had to send this memo to all White House staff\tAuteur : frituurgarnituur\tDate : 2023/11/30\tURL : https://www.reddit.com//r/interestingasfuck/comments/187etql/george_bush_srs_dog_got_so_fat_in_1992_that_he/\tTexte : \t,\n",
       " Titre : Anthony Bourdain has always been right\tAuteur : prailock\tDate : 2023/11/30\tURL : https://www.reddit.com//r/PoliticalHumor/comments/1877ic0/anthony_bourdain_has_always_been_right/\tTexte : \t,\n",
       " Titre : Basically everyone on this sub’s experience over the past couple days\tAuteur : Rough-Dizaster\tDate : 2023/11/30\tURL : https://www.reddit.com//r/scambait/comments/1877bb9/basically_everyone_on_this_subs_experience_over/\tTexte : \t,\n",
       " Titre : Half of British Jews 'considering leaving the UK' amid 'staggering' rise in anti-Semitism\tAuteur : HaTzoref\tDate : 2023/11/30\tURL : https://www.reddit.com//r/europe/comments/187f4ia/half_of_british_jews_considering_leaving_the_uk/\tTexte : \t,\n",
       " Titre : Trump Caught Moving Money Around to Pay Massive Tax Bill. | Trump wasn't supposed to be moving significant amounts of money around without notifying a court-appointed auditor. He just got caught paying himself so he could pay his taxes.\tAuteur : GonzoVeritas\tDate : 2023/11/29\tURL : https://www.reddit.com//r/politics/comments/187242w/trump_caught_moving_money_around_to_pay_massive/\tTexte : \t,\n",
       " Titre : Ubisoft accidentally releases Beyond Good and Evil remaster, remembers it doesn't do that sort of thing, attempts to scrub all trace from the internet, then gives up and announces it anyway | PC Gamer\tAuteur : Songhunter\tDate : 2023/11/30\tURL : https://www.reddit.com//r/gaming/comments/18754i5/ubisoft_accidentally_releases_beyond_good_and/\tTexte : Someone at Ubi just had one hell of a day.\t,\n",
       " Titre : Elon tells Bob Iger to “go f*ck yourself”\tAuteur : pstbo\tDate : 2023/11/30\tURL : https://www.reddit.com//r/wallstreetbets/comments/18739kt/elon_tells_bob_iger_to_go_fck_yourself/\tTexte : \t,\n",
       " Titre : Bro got drowned by a lake\tAuteur : thexbeatboxer\tDate : 2023/11/30\tURL : https://www.reddit.com//r/clevercomebacks/comments/1873vwt/bro_got_drowned_by_a_lake/\tTexte : \t,\n",
       " Titre : Mom can teleport\tAuteur : Fightin_Rooster\tDate : 2023/11/30\tURL : https://www.reddit.com//r/perfectlycutscreams/comments/1874wyg/mom_can_teleport/\tTexte : \t,\n",
       " Titre : Gus 100% believes Grammy’s visits are for him. He’s not wrong\tAuteur : Fishmike52\tDate : 2023/11/29\tURL : https://www.reddit.com//r/aww/comments/1872hv4/gus_100_believes_grammys_visits_are_for_him_hes/\tTexte : \t,\n",
       " Titre : Blahaj in a suit\tAuteur : King_Pee\tDate : 2023/11/30\tURL : https://www.reddit.com//r/wholesomememes/comments/18761wh/blahaj_in_a_suit/\tTexte : \t,\n",
       " Titre : World needs more Gregs\tAuteur : My_Memes_Will_Cure_U\tDate : 2023/11/30\tURL : https://www.reddit.com//r/MadeMeSmile/comments/187eqby/world_needs_more_gregs/\tTexte : \t,\n",
       " Titre : Meirl\tAuteur : Majestic_Collar_6075\tDate : 2023/11/30\tURL : https://www.reddit.com//r/meirl/comments/18750jy/meirl/\tTexte : \t,\n",
       " Titre : THIS IS NOT A DRILL, REPTE THIS IS NOT A DRILL\tAuteur : Chad_at_life\tDate : 2023/11/30\tURL : https://www.reddit.com//r/NonCredibleDiplomacy/comments/1876p27/this_is_not_a_drill_repte_this_is_not_a_drill/\tTexte : \t,\n",
       " Titre : Maybe maybe maybe\tAuteur : cgsimmons1983\tDate : 2023/11/30\tURL : https://www.reddit.com//r/maybemaybemaybe/comments/1877g17/maybe_maybe_maybe/\tTexte : \t,\n",
       " Titre : Large abdominal hernia\tAuteur : Creams0da\tDate : 2023/11/30\tURL : https://www.reddit.com//r/WTF/comments/187auk2/large_abdominal_hernia/\tTexte : \t,\n",
       " Titre : The details are very meticulous and beautiful. I really like this work\tAuteur : Leia_Kaytlyn\tDate : 2023/11/30\tURL : https://www.reddit.com//r/Satisfyingasfuck/comments/1877zpz/the_details_are_very_meticulous_and_beautiful_i/\tTexte : \t,\n",
       " Titre : THE DAY HATH COME\tAuteur : PressFtoHoldMyHand\tDate : 2023/11/30\tURL : https://www.reddit.com//r/dankmemes/comments/18776kf/the_day_hath_come/\tTexte : \t,\n",
       " Titre : This is precious.\tAuteur : SeniorInvestigator81\tDate : 2023/11/30\tURL : https://www.reddit.com//r/Awww/comments/1879fiu/this_is_precious/\tTexte : \t,\n",
       " Titre : She’s got your smile\tAuteur : xxprettyxcv\tDate : 2023/11/30\tURL : https://www.reddit.com//r/rareinsults/comments/187f2wy/shes_got_your_smile/\tTexte : \t,\n",
       " Titre : I PROMISE I DIDNT DO ANYTHING, IT WASNT ME\tAuteur : the-vindicator\tDate : 2023/11/30\tURL : https://www.reddit.com//r/agedlikemilk/comments/1877dte/i_promise_i_didnt_do_anything_it_wasnt_me/\tTexte : https://www.nytimes.com/2023/11/29/us/henry-kissinger-dead.html\t,\n",
       " Titre : That stupid fish can suck it. Big Dinosaur lizard supremacy\tAuteur : StaleUnderwear\tDate : 2023/11/30\tURL : https://www.reddit.com//r/pokemon/comments/187cub5/that_stupid_fish_can_suck_it_big_dinosaur_lizard/\tTexte : \t,\n",
       " Titre : Musk to advertisers: Go fuck yourself\tAuteur : ExactlySorta\tDate : 2023/11/29\tURL : https://www.reddit.com//r/PublicFreakout/comments/1872nx4/musk_to_advertisers_go_fuck_yourself/\tTexte : \t,\n",
       " Titre : Trump Caught Moving Money Around to Pay Massive Tax Bill. Trump wasn't supposed to be moving significant amounts of money around without notifying a court-appointed auditor. He just got caught paying himself so he could pay his taxes. | High Wire Transfer\tAuteur : News-Flunky\tDate : 2023/11/29\tURL : https://www.reddit.com//r/law/comments/1872a77/trump_caught_moving_money_around_to_pay_massive/\tTexte : \t,\n",
       " Titre : The ending was completely deserved and hilarious\tAuteur : Ok-Guess-3817\tDate : 2023/11/30\tURL : https://www.reddit.com//r/ImTheMainCharacter/comments/1878qdq/the_ending_was_completely_deserved_and_hilarious/\tTexte : \t,\n",
       " Titre : It’s quicker too\tAuteur : DaveTheRocketGuy\tDate : 2023/11/30\tURL : https://www.reddit.com//r/memes/comments/187f6du/its_quicker_too/\tTexte : \t,\n",
       " Titre : Big sad\tAuteur : Conscious-Aioli-1551\tDate : 2023/11/30\tURL : https://www.reddit.com//r/Animemes/comments/187fgds/big_sad/\tTexte : \t,\n",
       " Titre : 🫵🏻🫵🏻\tAuteur : hardimages\tDate : 2023/11/30\tURL : https://www.reddit.com//r/hardimages/comments/1873lu8/_/\tTexte : \t,\n",
       " Titre : Dr. Henry Kissinger Dies at Age 100\tAuteur : tinykidtoo\tDate : 2023/11/30\tURL : https://www.reddit.com//r/behindthebastards/comments/1876guq/dr_henry_kissinger_dies_at_age_100/\tTexte : \t,\n",
       " Titre : A six-planet solar system in perfect synchrony has been found in the Milky Way\tAuteur : scottmache025\tDate : 2023/11/30\tURL : https://www.reddit.com//r/science/comments/1878k6t/a_sixplanet_solar_system_in_perfect_synchrony_has/\tTexte : \t,\n",
       " Titre : Confirmed wala na ang KathNiel 😭\tAuteur : Actual_Fox_4004\tDate : 2023/11/30\tURL : https://www.reddit.com//r/ChikaPH/comments/187fd7x/confirmed_wala_na_ang_kathniel/\tTexte : \t,\n",
       " Titre : My wife. Early 80s.\tAuteur : CHhVCq\tDate : 2023/11/30\tURL : https://www.reddit.com//r/OldSchoolCool/comments/1878cqx/my_wife_early_80s/\tTexte : \t,\n",
       " Titre : A giant macaron is given by france to every winner of the grand sumo tournament in japan\tAuteur : GaddockTeegFunPolice\tDate : 2023/11/30\tURL : https://www.reddit.com//r/mildlyinteresting/comments/187g0lq/a_giant_macaron_is_given_by_france_to_every/\tTexte : \t,\n",
       " Titre : Thought this could fit here: \"The beach you've visited most\" , by me, acrylics on canvas, 2023\tAuteur : dergeraet93\tDate : 2023/11/29\tURL : https://www.reddit.com//r/antiwork/comments/1870ckz/thought_this_could_fit_here_the_beach_youve/\tTexte : \t,\n",
       " Titre : Controversial Educational Practices\tAuteur : Addilyn_Ambar\tDate : 2023/11/30\tURL : https://www.reddit.com//r/facepalm/comments/1877s69/controversial_educational_practices/\tTexte : \t,\n",
       " Titre : I purposely farted in front of guy at the gym because he wouldn't take no for an answer.\tAuteur : Titfortat101\tDate : 2023/11/29\tURL : https://www.reddit.com//r/pettyrevenge/comments/1870uw3/i_purposely_farted_in_front_of_guy_at_the_gym/\tTexte : So a few things. I go to the gym to workout and decompress I don't see it as a place to be social. I wear large over ear headphones.I was at the gym and just finished one my sets for deadlifts, when a guy walks over. This is something I'm used to (despite how much I dislike it) but he starts talking to me and I'm able to pick up he's flirting. I'm polite and waiting for the proper moment to end the conversation. When he asks for my number I decline. He keeps talking and going into the usual shtick of \"why not?\" And \"come on\". At that point I'm very uncomfortable and also annoyed because my workout timer has already gone off and it past time for me to start my next set. I put on my big girl pants and tell him he's making me uncomfortable and I just want to finish my workout. Does he leave? No! He keeps talking now going on about \"how he didn't mean it like that\" and \" he's not a bad guy.\" No actual apology to be found. Now during this entire interaction I've had to fart. I was being polite and holding it in until he left but seeing as he's not I think \"well I know a way to get him to leave.\"As he's STILL talking I let it go. It's silent but rather smelly. It only takes about 2 seconds for him to catch a whiff. He stops talking and the face he makes is too much that I have to bite my lip to stop laughing. That's when he give me a look of \"are you serious\" and the finally leaves. And I'm left alone to finish my workout.\t,\n",
       " Titre : Why would you do this to her!! 😭😭😭\tAuteur : Alora_Abhaya\tDate : 2023/11/30\tURL : https://www.reddit.com//r/cats/comments/187cp8f/why_would_you_do_this_to_her/\tTexte : \t,\n",
       " Titre : NZ Advertisement.\tAuteur : Late_One_716\tDate : 2023/11/30\tURL : https://www.reddit.com//r/HolUp/comments/187fvbz/nz_advertisement/\tTexte : \t,\n",
       " Titre : 🔥A friendly fox in a field🦊\tAuteur : SecondCropCreative\tDate : 2023/11/30\tURL : https://www.reddit.com//r/NatureIsFuckingLit/comments/1878z5v/a_friendly_fox_in_a_field/\tTexte : \t,\n",
       " Titre : howdy neighbor\tAuteur : SeeminglySusan\tDate : 2023/11/30\tURL : https://www.reddit.com//r/holdmycatnip/comments/1876ea0/howdy_neighbor/\tTexte : \t,\n",
       " Titre : Never order \"gourmet\" pizza\tAuteur : VrondisEyes\tDate : 2023/11/29\tURL : https://www.reddit.com//r/StupidFood/comments/1871aaw/never_order_gourmet_pizza/\tTexte : \t,\n",
       " Titre : After only 9 days of use, is this normal?\tAuteur : leftoright\tDate : 2023/11/30\tURL : https://www.reddit.com//r/pcmasterrace/comments/187fwi8/after_only_9_days_of_use_is_this_normal/\tTexte : Its a 4000D airflow case. Brand new.The back case fan was moved to the front, above the middle front case fan.The be quiet Pure Rock 2 case fan was installed in the back instead.I didn't expect to see so much dust on the filter in such short time.Did something go wrong or thats how it works?Thanks a lot!\t,\n",
       " Titre : If Qui-Gon Jinn survived and joined the Clone Wars\tAuteur : K-jun1117\tDate : 2023/11/30\tURL : https://www.reddit.com//r/StarWars/comments/1875a65/if_quigon_jinn_survived_and_joined_the_clone_wars/\tTexte : \t,\n",
       " Titre : Look how they massacred my boyy\tAuteur : Difficult_Leading551\tDate : 2023/11/30\tURL : https://www.reddit.com//r/starwarsmemes/comments/187fk7j/look_how_they_massacred_my_boyy/\tTexte : \t,\n",
       " Titre : Occupied Crimea TV was hacked, all channels showed a speech from Zelenskyy & Zaluzhnyi. The name of all channels was changed to “Putin Khuilo (Putin is a dick)\tAuteur : TotalSpaceNut\tDate : 2023/11/30\tURL : https://www.reddit.com//r/ukraine/comments/18768mm/occupied_crimea_tv_was_hacked_all_channels_showed/\tTexte : \t,\n",
       " Titre : The guys ticked the vibe check box\tAuteur : gingiviitis\tDate : 2023/11/30\tURL : https://www.reddit.com//r/JustGuysBeingDudes/comments/187bt6n/the_guys_ticked_the_vibe_check_box/\tTexte : \t,\n",
       " Titre : rip bozo\tAuteur : umbral_ultimatum\tDate : 2023/11/30\tURL : https://www.reddit.com//r/whenthe/comments/1876vcv/rip_bozo/\tTexte : \t,\n",
       " Titre : ohWell\tAuteur : Github_Boi\tDate : 2023/11/30\tURL : https://www.reddit.com//r/ProgrammerHumor/comments/187gctq/ohwell/\tTexte : \t,\n",
       " Titre : Cursed_code\tAuteur : ANMSSHITPOSTER\tDate : 2023/11/30\tURL : https://www.reddit.com//r/cursedcomments/comments/1876rqi/cursed_code/\tTexte : \t,\n",
       " Titre : For some reason the official windows account only follows this one person\tAuteur : gravityVT\tDate : 2023/11/29\tURL : https://www.reddit.com//r/TikTokCringe/comments/1872ktw/for_some_reason_the_official_windows_account_only/\tTexte : \t,\n",
       " Titre : Cheesecake factory remix\tAuteur : Tall-Stretch-8716\tDate : 2023/11/30\tURL : https://www.reddit.com//r/SipsTea/comments/18797zm/cheesecake_factory_remix/\tTexte : \t,\n",
       " Titre : WIBTAH for thinking about calling off my engagement because my fiancé lied to his family about us having kids?\tAuteur : Lonely-Connection121\tDate : 2023/11/30\tURL : https://www.reddit.com//r/AITAH/comments/187bc1b/wibtah_for_thinking_about_calling_off_my/\tTexte : My fiancé (23) and I (22) plan to get married next year. Despite having a set date, there are still many things to organize, but I'm considering postponing or even canceling the wedding. For additional context, when we started our relationship, I told him that I had always been certain I didn't want to have children. In my country, which is not the United States, a woman wanting to undergo surgery faces many obstacles, and in most cases, doctors refuse to perform the procedure. This is aside from the complications women experience, unlike men who undergo vasectomies.When I told him about not wanting children, he mentioned he wasn't considering them either. However, when I asked about vasectomy, he admitted hesitating in case he changed his mind. Understanding his perspective, we dropped the topic. We continued dating for three more years, and during a vacation four months ago, he proposed on the beach. We decided to marry on our first-date anniversary. I revisited the child topic, anticipating marital pressures, and he confirmed our shared stance. We shared the news with my parents, who congratulated us joyfully.The issue arose when we visited his parents. He's the youngest with two older brothers and one older sister, all married with children. During the dinner we had to celebrate our visit, we announced our engagement, and everyone congratulated us. Most conversations revolved around wedding preparations, the venue, the guest list, and so on. In that moment, his sister asked us how many children we were planning to have (keep in mind that my fiancé had asked me in the past to avoid stating outright that we wouldn't have children in front of his parents, knowing it could lead to arguments). I recalled his request but wasn't sure how to respond this time. We typically said we weren't certain about the topic yet, but I didn't want to lie. Considering the significant step we were taking, I felt we needed to be honest to prevent future issues. My fiancé stepped in and mentioned we would have only one child. His father and one of his brothers started teasing him for wanting just one, suggesting we should aim for at least three like the rest, so we could experience the joy of a large family like everyone else. He laughed along with them, making jokes about wanting more if I didn't make it difficult for him.At first, I planned to discuss it with him after dinner, but after the last comment, I left my plate, stood up, and asked him to join me in the backyard. It took him a moment, but he followed, avoiding direct eye contact, and commented that my sudden departure was a bit rude. When I questioned him about what he had said, he gave evasive responses, reiterating the desire to avoid arguments. I insisted that we should be truthful now to prevent future problems, but he resisted. I told him I wouldn't go along with the lie. As I was about to leave, he revealed he had changed his mind about having children, wanting several. He had been thinking about it for months before proposing. I reminded him of our previous conversation, and he admitted he hoped to convince me after marriage.I told him I wouldn't change my mind, and out of nowhere, he started insulting me, calling me a stupid, arrogant, and selfish person for wanting to deprive him of the \"best experience in the world.\" I didn't expect him to treat me that way, so instead of responding, I went back to his family and revealed the whole truth, stating that I would never change my mind. I then packed my bags and left. Now I'm at a hotel, and after talking to my family, who told me they had crossed a line, I decided I needed to vent.I was always upfront with him about my desires and asked for honesty. Not only did he lie, but he also insulted me when he realized he couldn't manipulate me. That's why I'm considering canceling everything and ending the relationship.WIBTAH?\t,\n",
       " Titre : A missing person's page from an old high school yearbook\tAuteur : Trashpit996\tDate : 2023/11/30\tURL : https://www.reddit.com//r/oddlyterrifying/comments/1876jd9/a_missing_persons_page_from_an_old_high_school/\tTexte : She's never been found and is believed to have been killed by serial killer Larry Hall.\t,\n",
       " Titre : Uganda have qualified for their first major event, they're going to the T20 World Cup\tAuteur : thatguybruv\tDate : 2023/11/30\tURL : https://www.reddit.com//r/Cricket/comments/187ewvx/uganda_have_qualified_for_their_first_major_event/\tTexte : \t,\n",
       " Titre : Mysterious woman tells school board that Scholastic book sparked porn addiction\tAuteur : -Appleaday-\tDate : 2023/11/29\tURL : https://www.reddit.com//r/nottheonion/comments/18716k6/mysterious_woman_tells_school_board_that/\tTexte : \t,\n",
       " Titre : This little mouse feels very safe with his cat friend\tAuteur : Educational_Deal_376\tDate : 2023/11/30\tURL : https://www.reddit.com//r/FunnyAnimals/comments/187f25o/this_little_mouse_feels_very_safe_with_his_cat/\tTexte : \t,\n",
       " Titre : Shit\tAuteur : solid_khalid\tDate : 2023/11/30\tURL : https://www.reddit.com//r/TerrifyingAsFuck/comments/187a1w6/shit/\tTexte : \t,\n",
       " Titre : No luck\tAuteur : Comfortablejack\tDate : 2023/11/30\tURL : https://www.reddit.com//r/FunnyandSad/comments/187d177/no_luck/\tTexte : \t,\n",
       " Titre : True\tAuteur : lhomme21\tDate : 2023/11/29\tURL : https://www.reddit.com//r/NonPoliticalTwitter/comments/186yrtq/true/\tTexte : \t,\n",
       " Titre : Star Rail wins iPhone Game of the Year\tAuteur : neverplatonic\tDate : 2023/11/30\tURL : https://www.reddit.com//r/HonkaiStarRail/comments/1879f3h/star_rail_wins_iphone_game_of_the_year/\tTexte : [Link to press release](https://www.apple.com/newsroom/2023/11/apple-unveils-app-store-award-winners-the-best-apps-and-games-of-2023/)\t,\n",
       " Titre : Some insane card skills\tAuteur : AnalDwelinButtMonkey\tDate : 2023/11/30\tURL : https://www.reddit.com//r/Damnthatsinteresting/comments/187butf/some_insane_card_skills/\tTexte : \t,\n",
       " Titre : Footage from security cameras of the shooting attack this morning in Jerusalem. \tAuteur : TheBadassCat\tDate : 2023/11/30\tURL : https://www.reddit.com//r/ThatsInsane/comments/187e6m5/footage_from_security_cameras_of_the_shooting/\tTexte : Two man, one wielding a pistol and the other m16 came out of a car and started shooting at a crowd in a bus stop. As of now, 3 are dead and 13 injured .\t,\n",
       " Titre : 'Your Turn': United Auto Workers Launches Campaign to Unionize Tesla\tAuteur : Sorin61\tDate : 2023/11/30\tURL : https://www.reddit.com//r/technology/comments/187br4y/your_turn_united_auto_workers_launches_campaign/\tTexte : \t,\n",
       " Titre : Free them from the shackles of cancel culture rants\tAuteur : BPTeehee\tDate : 2023/11/30\tURL : https://www.reddit.com//r/BlackPeopleTwitter/comments/1873avh/free_them_from_the_shackles_of_cancel_culture/\tTexte : \t,\n",
       " Titre : terraria wiki\tAuteur : Able_Health744\tDate : 2023/11/29\tURL : https://www.reddit.com//r/CuratedTumblr/comments/1870y4a/terraria_wiki/\tTexte : \t,\n",
       " Titre : Porn addict girl at TX school board meeting is actually a PR shill for a competing book fair company... And was actually home schooled!\tAuteur : lurkity_mclurkington\tDate : 2023/11/29\tURL : https://www.reddit.com//r/texas/comments/1871uuc/porn_addict_girl_at_tx_school_board_meeting_is/\tTexte : \t,\n",
       " Titre : deleted scene where david wallace makes ryan cry\tAuteur : carrotwhirl\tDate : 2023/11/30\tURL : https://www.reddit.com//r/DunderMifflin/comments/187f8vq/deleted_scene_where_david_wallace_makes_ryan_cry/\tTexte : \t,\n",
       " Titre : Degenbrecher's inability to use art (by soporpenguin, TL by me)\tAuteur : Dedpul1994\tDate : 2023/11/30\tURL : https://www.reddit.com//r/arknights/comments/187ddqu/degenbrechers_inability_to_use_art_by/\tTexte : \t,\n",
       " Titre : We are so back bros\tAuteur : BasedAndMarketPilled\tDate : 2023/11/30\tURL : https://www.reddit.com//r/PoliticalCompassMemes/comments/1877qhm/we_are_so_back_bros/\tTexte : \t,\n",
       " Titre : My friends attempt to not make me kill myself\tAuteur : Kefyzz\tDate : 2023/11/30\tURL : https://www.reddit.com//r/teenagers/comments/187a8i5/my_friends_attempt_to_not_make_me_kill_myself/\tTexte : \t,\n",
       " Titre : I'm totally lost here\tAuteur : EmpanadaYGaseosa\tDate : 2023/11/29\tURL : https://www.reddit.com//r/ExplainTheJoke/comments/1872jad/im_totally_lost_here/\tTexte : \t,\n",
       " Titre : Hierarchical Dirichlet Process and Relative Entropy\tAuteur : Shui Feng\tDate : 2022/10/24\tURL : http://arxiv.org/abs/2210.13142v1\tTexte : The Hierarchical Dirichlet process is a discrete random measure serving as animportant prior in Bayesian non-parametrics. It is motivated with the study ofgroups of clustered data. Each group is modelled through a level two Dirichletprocess and all groups share the same base distribution which itself is a drawnfrom a level one Dirichlet process. It has two concentration parameters withone at each level. The main results of the paper are the law of large numbersand large deviations for the hierarchical Dirichlet process and its mass whenboth concentration parameters converge to infinity. The large deviation ratefunctions are identified explicitly. The rate function for the hierarchicalDirichlet process consists of two terms corresponding to the relative entropiesat each level. It is less than the rate function for the Dirichlet process,which reflects the fact that the number of clusters under the hierarchicalDirichlet process has a slower growth rate than under the Dirichlet process.\t,\n",
       " Titre : Spectral analysis of communication networks using Dirichlet eigenvalues\tAuteur : Alexander Tsiatas, Iraj Saniee, Onuttom Narayan, Matthew Andrews\tDate : 2011/02/17\tURL : http://arxiv.org/abs/1102.3722v2\tTexte : The spectral gap of the graph Laplacian with Dirichlet boundary conditions iscomputed for the graphs of several communication networks at the IP-layer,which are subgraphs of the much larger global IP-layer network. We show thatthe Dirichlet spectral gap of these networks is substantially larger than thestandard spectral gap and is likely to remain non-zero in the infinite graphlimit. We first prove this result for finite regular trees, and show that theDirichlet spectral gap in the infinite tree limit converges to the spectral gapof the infinite tree. We also perform Dirichlet spectral clustering on theIP-layer networks and show that it often yields cuts near the network core thatcreate genuine single-component clusters. This is much better than traditionalspectral clustering where several disjoint fragments near the periphery areliable to be misleadingly classified as a single cluster. Spectral clusteringis often used to identify bottlenecks or congestion; since congestion in thesenetworks is known to peak at the core, our results suggest that Dirichletspectral clustering may be better at finding bona-fide bottlenecks.\t,\n",
       " Titre : Dirichlet Process Mixtures of Generalized Mallows Models\tAuteur : Marina Meila, Harr Chen\tDate : 2012/03/15\tURL : http://arxiv.org/abs/1203.3496v1\tTexte : We present a Dirichlet process mixture model over discrete incompleterankings and study two Gibbs sampling inference techniques for estimatingposterior clusterings. The first approach uses a slice sampling subcomponentfor estimating cluster parameters. The second approach marginalizes out severalcluster parameters by taking advantage of approximations to the conditionalposteriors. We empirically demonstrate (1) the effectiveness of thisapproximation for improving convergence, (2) the benefits of the Dirichletprocess model over alternative clustering techniques for ranked data, and (3)the applicability of the approach to exploring large realworld rankingdatasets.\t,\n",
       " Titre : Similarity-based Random Partition Distribution for Clustering Functional  Data\tAuteur : Tomoya Wakayama, Shonosuke Sugasawa, Genya Kobayashi\tDate : 2023/08/03\tURL : http://arxiv.org/abs/2308.01704v1\tTexte : Random partitioned distribution is a powerful tool for model-basedclustering. However, the implementation in practice can be challenging forfunctional spatial data such as hourly observed population data observed ineach region. The reason is that high dimensionality tends to yield excessclusters, and spatial dependencies are challenging to represent with a simplerandom partition distribution (e.g., the Dirichlet process). This paperaddresses these issues by extending the generalized Dirichlet process toincorporate pairwise similarity information, which we call the similarity-basedgeneralized Dirichlet process (SGDP), and provides theoretical justificationfor this approach. We apply SGDP to hourly population data observed in 500mmeshes in Tokyo, and demonstrate its usefulness for functional clustering bytaking account of spatial information.\t,\n",
       " Titre : Clustering consistency with Dirichlet process mixtures\tAuteur : Filippo Ascolani, Antonio Lijoi, Giovanni Rebaudo, Giacomo Zanella\tDate : 2022/05/25\tURL : http://arxiv.org/abs/2205.12924v1\tTexte : Dirichlet process mixtures are flexible non-parametric models, particularlysuited to density estimation and probabilistic clustering. In this work westudy the posterior distribution induced by Dirichlet process mixtures as thesample size increases, and more specifically focus on consistency for theunknown number of clusters when the observed data are generated from a finitemixture. Crucially, we consider the situation where a prior is placed on theconcentration parameter of the underlying Dirichlet process. Previous findingsin the literature suggest that Dirichlet process mixtures are typically notconsistent for the number of clusters if the concentration parameter is heldfixed and data come from a finite mixture. Here we show that consistency forthe number of clusters can be achieved if the concentration parameter isadapted in a fully Bayesian way, as commonly done in practice. Our results arederived for data coming from a class of finite mixtures, with mild assumptionson the prior for the concentration parameter and for a variety of choices oflikelihood kernels for the mixture.\t,\n",
       " Titre : A Hierarchical Dirichlet Process Model with Multiple Levels of  Clustering for Human EEG Seizure Modeling\tAuteur : Drausin Wulsin, Shane Jensen, Brian Litt\tDate : 2012/06/18\tURL : http://arxiv.org/abs/1206.4616v1\tTexte : Driven by the multi-level structure of human intracranialelectroencephalogram (iEEG) recordings of epileptic seizures, we introduce anew variant of a hierarchical Dirichlet Process---the multi-level clusteringhierarchical Dirichlet Process (MLC-HDP)---that simultaneously clustersdatasets on multiple levels. Our seizure dataset contains brain activityrecorded in typically more than a hundred individual channels for each seizureof each patient. The MLC-HDP model clusters over channels-types, seizure-types,and patient-types simultaneously. We describe this model and its implementationin detail. We also present the results of a simulation study comparing theMLC-HDP to a similar model, the Nested Dirichlet Process and finallydemonstrate the MLC-HDP's use in modeling seizures across multiple patients. Wefind the MLC-HDP's clustering to be comparable to independent human physicianclusterings. To our knowledge, the MLC-HDP model is the first in the epilepsyliterature capable of clustering seizures within and between patients.\t,\n",
       " Titre : The supervised hierarchical Dirichlet process\tAuteur : Andrew M. Dai, Amos J. Storkey\tDate : 2014/12/17\tURL : http://arxiv.org/abs/1412.5236v1\tTexte : We propose the supervised hierarchical Dirichlet process (sHDP), anonparametric generative model for the joint distribution of a group ofobservations and a response variable directly associated with that whole group.We compare the sHDP with another leading method for regression on grouped data,the supervised latent Dirichlet allocation (sLDA) model. We evaluate our methodon two real-world classification problems and two real-world regressionproblems. Bayesian nonparametric regression models based on the Dirichletprocess, such as the Dirichlet process-generalised linear models (DP-GLM) havepreviously been explored; these models allow flexibility in modelling nonlinearrelationships. However, until now, Hierarchical Dirichlet Process (HDP)mixtures have not seen significant use in supervised problems with grouped datasince a straightforward application of the HDP on the grouped data results inlearnt clusters that are not predictive of the responses. The sHDP solves thisproblem by allowing for clusters to be learnt jointly from the group structureand from the label assigned to each group.\t,\n",
       " Titre : Scalable Inference for Latent Dirichlet Allocation\tAuteur : James Petterson, Tiberio Caetano\tDate : 2009/09/25\tURL : http://arxiv.org/abs/0909.4603v1\tTexte : We investigate the problem of learning a topic model - the well-known LatentDirichlet Allocation - in a distributed manner, using a cluster of C processorsand dividing the corpus to be learned equally among them. We propose a simpleapproximated method that can be tuned, trading speed for accuracy according tothe task at hand. Our approach is asynchronous, and therefore suitable forclusters of heterogenous machines.\t,\n",
       " Titre : Dynamic Clustering via Asymptotics of the Dependent Dirichlet Process  Mixture\tAuteur : Trevor Campbell, Miao Liu, Brian Kulis, Jonathan P. How, Lawrence Carin\tDate : 2013/05/28\tURL : http://arxiv.org/abs/1305.6659v2\tTexte : This paper presents a novel algorithm, based upon the dependent Dirichletprocess mixture model (DDPMM), for clustering batch-sequential data containingan unknown number of evolving clusters. The algorithm is derived via alow-variance asymptotic analysis of the Gibbs sampling algorithm for the DDPMM,and provides a hard clustering with convergence guarantees similar to those ofthe k-means algorithm. Empirical results from a synthetic test with movingGaussian clusters and a test with real ADS-B aircraft trajectory datademonstrate that the algorithm requires orders of magnitude less computationaltime than contemporary probabilistic and hard clustering algorithms, whileproviding higher accuracy on the examined datasets.\t,\n",
       " Titre : Dirichlet-tree multinomial mixtures for clustering microbiome  compositions\tAuteur : Jialiang Mao, Li Ma\tDate : 2020/08/02\tURL : http://arxiv.org/abs/2008.00400v2\tTexte : Studying the human microbiome has gained substantial interest in recentyears, and a common task in the analysis of these data is to cluster microbiomecompositions into subtypes. This subdivision of samples into subgroups servesas an intermediary step in achieving personalized diagnosis and treatment. Inapplying existing clustering methods to modern microbiome studies including theAmerican Gut Project (AGP) data, we found that this seemingly standard task,however, is very challenging in the microbiome composition context due toseveral key features of such data. Standard distance-based clusteringalgorithms generally do not produce reliable results as they do not take intoaccount the heterogeneity of the cross-sample variability among the bacterialtaxa, while existing model-based approaches do not allow sufficient flexibilityfor the identification of complex within-cluster variation from cross-clustervariation. Direct applications of such methods generally lead to overlydispersed clusters in the AGP data and such phenomenon is common for othermicrobiome data. To overcome these challenges, we introduce Dirichlet-treemultinomial mixtures (DTMM) as a Bayesian generative model for clusteringamplicon sequencing data in microbiome studies. DTMM models the microbiomepopulation with a mixture of Dirichlet-tree kernels that utilizes thephylogenetic tree to offer a more flexible covariance structure incharacterizing within-cluster variation, and it provides a means foridentifying a subset of signature taxa that distinguish the clusters. Weperform extensive simulation studies to evaluate the performance of DTMM andcompare it to state-of-the-art model-based and distance-based clusteringmethods in the microbiome context. Finally, we report a case study on the fecaldata from the AGP to identify compositional clusters among individuals withinflammatory bowel disease and diabetes.\t]"
      ]
     },
     "execution_count": 15,
     "metadata": {},
     "output_type": "execute_result"
    }
   ],
   "source": [
    "collection"
   ]
  },
  {
   "cell_type": "code",
   "execution_count": 16,
   "id": "0629e21d",
   "metadata": {},
   "outputs": [
    {
     "name": "stdout",
     "output_type": "stream",
     "text": [
      "Remarkable_Toe2603\n",
      "Individual_Book9133\n",
      "bsurfn2day\n",
      "ras2193\n",
      "reddot_comic\n",
      "MrRedXiii\n",
      "AshRiddle\n",
      "TheIxbot\n",
      "Finitegamer2004\n",
      "TxtyouK\n",
      "ReviewOk929\n",
      "The2lackSUN\n",
      "MatchesM3\n",
      "thala-for-a-reason7\n",
      "OKVoice1\n",
      "After_Cap_186\n",
      "MuthaPlucka\n",
      "rebelliousmuse\n",
      "RedditUserOfAmerica\n",
      "T3TeddY-221\n",
      "JosZo\n",
      "duhbiap\n",
      "Anas_Elgarhy\n",
      "shado-walkerrrr\n",
      "DCArchibald\n",
      "theworldmaps\n",
      "kohta_KAJAhtaa\n",
      "Previous_Reporter_63\n",
      "Amazingqueen97\n",
      "frituurgarnituur\n",
      "prailock\n",
      "Rough-Dizaster\n",
      "HaTzoref\n",
      "GonzoVeritas\n",
      "Songhunter\n",
      "pstbo\n",
      "thexbeatboxer\n",
      "Fightin_Rooster\n",
      "Fishmike52\n",
      "King_Pee\n",
      "My_Memes_Will_Cure_U\n",
      "Majestic_Collar_6075\n",
      "Chad_at_life\n",
      "cgsimmons1983\n",
      "Creams0da\n",
      "Leia_Kaytlyn\n",
      "PressFtoHoldMyHand\n",
      "SeniorInvestigator81\n",
      "xxprettyxcv\n",
      "the-vindicator\n",
      "StaleUnderwear\n",
      "ExactlySorta\n",
      "News-Flunky\n",
      "Ok-Guess-3817\n",
      "DaveTheRocketGuy\n",
      "Conscious-Aioli-1551\n",
      "hardimages\n",
      "tinykidtoo\n",
      "scottmache025\n",
      "Actual_Fox_4004\n",
      "CHhVCq\n",
      "GaddockTeegFunPolice\n",
      "dergeraet93\n",
      "Addilyn_Ambar\n",
      "Titfortat101\n",
      "Alora_Abhaya\n",
      "Late_One_716\n",
      "SecondCropCreative\n",
      "SeeminglySusan\n",
      "VrondisEyes\n",
      "leftoright\n",
      "K-jun1117\n",
      "Difficult_Leading551\n",
      "TotalSpaceNut\n",
      "gingiviitis\n",
      "umbral_ultimatum\n",
      "Github_Boi\n",
      "ANMSSHITPOSTER\n",
      "gravityVT\n",
      "Tall-Stretch-8716\n",
      "Lonely-Connection121\n",
      "Trashpit996\n",
      "thatguybruv\n",
      "-Appleaday-\n",
      "Educational_Deal_376\n",
      "solid_khalid\n",
      "Comfortablejack\n",
      "lhomme21\n",
      "neverplatonic\n",
      "AnalDwelinButtMonkey\n",
      "TheBadassCat\n",
      "Sorin61\n",
      "BPTeehee\n",
      "Able_Health744\n",
      "lurkity_mclurkington\n",
      "carrotwhirl\n",
      "Dedpul1994\n",
      "BasedAndMarketPilled\n",
      "Kefyzz\n",
      "EmpanadaYGaseosa\n"
     ]
    },
    {
     "ename": "AttributeError",
     "evalue": "'dict' object has no attribute 'author'",
     "output_type": "error",
     "traceback": [
      "\u001b[1;31m---------------------------------------------------------------------------\u001b[0m",
      "\u001b[1;31mAttributeError\u001b[0m                            Traceback (most recent call last)",
      "Cell \u001b[1;32mIn[16], line 2\u001b[0m\n\u001b[0;32m      1\u001b[0m \u001b[38;5;28;01mfor\u001b[39;00m nature, doc \u001b[38;5;129;01min\u001b[39;00m docs_bruts:\n\u001b[1;32m----> 2\u001b[0m     \u001b[38;5;28mprint\u001b[39m(\u001b[43mdoc\u001b[49m\u001b[38;5;241;43m.\u001b[39;49m\u001b[43mauthor\u001b[49m)\n",
      "\u001b[1;31mAttributeError\u001b[0m: 'dict' object has no attribute 'author'"
     ]
    }
   ],
   "source": [
    "for nature, doc in docs_bruts:\n",
    "    print(doc.author)"
   ]
  },
  {
   "cell_type": "code",
   "execution_count": null,
   "id": "c4e0fb71",
   "metadata": {},
   "outputs": [],
   "source": [
    "ll = [\"a\",\"b\",\"c\",\"d\"]"
   ]
  },
  {
   "cell_type": "code",
   "execution_count": 18,
   "id": "30024207",
   "metadata": {},
   "outputs": [
    {
     "name": "stdout",
     "output_type": "stream",
     "text": [
      "<class 'Corpus.Corpus'>\n"
     ]
    }
   ],
   "source": [
    "print(Corpus)"
   ]
  }
 ],
 "metadata": {
  "kernelspec": {
   "display_name": "Python 3 (ipykernel)",
   "language": "python",
   "name": "python3"
  },
  "language_info": {
   "codemirror_mode": {
    "name": "ipython",
    "version": 3
   },
   "file_extension": ".py",
   "mimetype": "text/x-python",
   "name": "python",
   "nbconvert_exporter": "python",
   "pygments_lexer": "ipython3",
   "version": "3.9.7"
  }
 },
 "nbformat": 4,
 "nbformat_minor": 5
}
